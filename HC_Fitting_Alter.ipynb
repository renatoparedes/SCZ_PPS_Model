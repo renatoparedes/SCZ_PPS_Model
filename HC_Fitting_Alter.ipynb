{
 "cells": [
  {
   "cell_type": "code",
   "execution_count": 5,
   "metadata": {},
   "outputs": [],
   "source": [
    "### Load PPS model\n",
    "%run ./PPS_model_auditory.ipynb\n",
    "ia_0 = 2.5\n",
    "it_0 = 2.5"
   ]
  },
  {
   "cell_type": "code",
   "execution_count": 6,
   "metadata": {},
   "outputs": [],
   "source": [
    "def Fw (Wt_0,Wa_0,Bt_0,Ba_0,k1,k2,lim,alpha):\n",
    "    #k1 = 10\n",
    "    #k2 = 700\n",
    "    #alpha = 0.9\n",
    "\n",
    "    # Tactile connections\n",
    "    Bt = np.ones((Mt,Nt))*Bt_0\n",
    "    Wt = np.ones((Mt,Nt))*Wt_0\n",
    "\n",
    "    # Visual connections\n",
    "    Ba = np.zeros((Ma,Na))\n",
    "    Wa = np.zeros((Ma,Na))\n",
    "\n",
    "    #lim = 20\n",
    "\n",
    "    for i in range(Ma):\n",
    "        for j in range(Na):\n",
    "            if (xa[i]<lim):\n",
    "                D = 0\n",
    "            else: \n",
    "                D = distance.euclidean((xa[i],ya[j]),(lim,ya[j]))              \n",
    "            Ba[i,j] = alpha*Ba_0*np.exp(- D/k1)+(1-alpha)*Ba_0*np.exp(- D/k2)\n",
    "            Wa[i,j] = alpha*Wa_0*np.exp(- D/k1)+(1-alpha)*Wa_0*np.exp(- D/k2)\n",
    "    return Wt,Wa,Bt,Ba\n",
    "\n",
    "## Feedback inputs\n",
    "\n",
    "# Tactile area\n",
    "def bt(z,Bt):\n",
    "    bt = np.multiply(Bt,z)\n",
    "    return bt\n",
    "\n",
    "# Auditory area\n",
    "def ba(z,Ba):\n",
    "    ba = np.multiply(Ba,z)\n",
    "    return ba"
   ]
  },
  {
   "cell_type": "code",
   "execution_count": 7,
   "metadata": {},
   "outputs": [],
   "source": [
    "## Experiment Function\n",
    "\n",
    "def boundaryexperimentrun(a_distances,time,b,pr,k1,k2,lim,alpha):\n",
    "    Wt,Wa,Bt,Ba = Fw(6.5,6.5,2.5,2.5,k1,k2,lim,alpha)\n",
    "    dt = 0.4\n",
    "    timesteps = int(time/dt)\n",
    "    ndist = len(a_distances)\n",
    "    \n",
    "    RTs = np.zeros(ndist)\n",
    "    ZTs = np.zeros((Mt,Nt,ndist))\n",
    "    ZAs = np.zeros((Ma,Na,ndist))\n",
    "    \n",
    "    ti = PHIt(0) \n",
    "    PrBa = prun(Ba,pr)\n",
    "    PrWa = prun(Wa,pr*2.6)\n",
    "    dtau = dt/tau\n",
    "    \n",
    "    qt = np.zeros((Mt,Nt,timesteps+1,ndist))\n",
    "    ut = np.zeros((Mt,Nt,timesteps+1,ndist))\n",
    "    zt = np.zeros((Mt,Nt,timesteps+1,ndist))\n",
    "    pt = np.zeros((Mt,Nt,timesteps+1,ndist))\n",
    "\n",
    "    qa = np.zeros((Ma,Na,timesteps+1,ndist))\n",
    "    ua = np.zeros((Ma,Na,timesteps+1,ndist))\n",
    "    za = np.zeros((Ma,Na,timesteps+1,ndist))\n",
    "    pa = np.zeros((Ma,Na,timesteps+1,ndist))\n",
    "\n",
    "    qm = np.zeros((timesteps+1,ndist))\n",
    "    um = np.zeros((timesteps+1,ndist))\n",
    "    zm = np.zeros((timesteps+1,ndist))\n",
    "    pm = np.zeros((timesteps+1,ndist))\n",
    "    \n",
    "    rt = np.zeros((timesteps+1,ndist))\n",
    "    \n",
    "    for d in range(ndist):\n",
    "        xa_0 = a_distances[d] # How far the sound is presented.     \n",
    "        ai = PHIa(0,xa_0) # Generates an auditory input\n",
    "\n",
    "        for i in range(timesteps):    \n",
    "            # Tactile activity\n",
    "            ut[:,:,i+1,d] = ti+LIt(zt[:,:,i,d])+bt(zm[i,d],Bt)\n",
    "            qt[:,:,i+1,d] = qt[:,:,i,d] + dtau*(-qt[:,:,i,d]+ut[:,:,i,d])\n",
    "            pt[:,:,i+1,d] = psit(qt[:,:,i,d],b)\n",
    "            zt[:,:,i+1,d] = pt[:,:,i,d]*np.heaviside(pt[:,:,i,d],0)\n",
    "\n",
    "            # Auditory activity\n",
    "            ua[:,:,i+1,d] = ai+LIa(za[:,:,i,d])+ba(zm[i,d],PrBa) \n",
    "            qa[:,:,i+1,d] = qa[:,:,i,d] + dtau*(-qa[:,:,i,d]+ua[:,:,i,d])\n",
    "            pa[:,:,i+1,d] = psia(qa[:,:,i,d],b)\n",
    "            za[:,:,i+1,d] = pa[:,:,i,d]*np.heaviside(pa[:,:,i,d],0)\n",
    "\n",
    "            # Multisensory activity\n",
    "            um[i+1,d] = np.sum(np.multiply(Wt,zt[:,:,i,d])) + np.sum(np.multiply(PrWa,za[:,:,i,d]))\n",
    "            qm[i+1,d] = qm[i,d] + dtau*(-qm[i,d]+um[i,d])\n",
    "            pm[i+1,d] = psim(qm[i,d])\n",
    "            zm[i+1,d] = pm[i,d]*np.heaviside(pm[i,d],0)\n",
    "            \n",
    "            # Response\n",
    "            rt[i+1,d] = np.any(zt[:,:,i,d]>(0.9*ft_max))\n",
    "            \n",
    "        RTs[d] = np.argmax(rt[:,d])*dt\n",
    "        ZMs = zm        \n",
    "        ZTs[:,:,d] = zt[:,:,timesteps,d]\n",
    "        ZAs[:,:,d] = za[:,:,timesteps,d]   \n",
    "    return RTs,ZMs,ZTs,ZAs"
   ]
  },
  {
   "cell_type": "code",
   "execution_count": 8,
   "metadata": {},
   "outputs": [
    {
     "data": {
      "text/plain": [
       "<matplotlib.collections.PathCollection at 0x1847a42a508>"
      ]
     },
     "execution_count": 8,
     "metadata": {},
     "output_type": "execute_result"
    },
    {
     "data": {
      "image/png": "[encoded data removed]",
      "text/plain": [
       "<Figure size 432x288 with 1 Axes>"
      ]
     },
     "metadata": {
      "needs_background": "light"
     },
     "output_type": "display_data"
    }
   ],
   "source": [
    "### Audio-tactile experiment simulation setup \n",
    "\n",
    "## Calculate distance in cms. Speaker is positioned at 100cm from the hand. \n",
    "s_distances = np.asarray([2700,2200,1500,800,300])/1000\n",
    "#s_distances = np.asarray([300,800,1500,2200,2700])/1000\n",
    "ts = np.linspace(s_distances[0],s_distances[-1],7)\n",
    "v = 30 #cm/s \n",
    "a_distances = (120 - ts*v) # distance points in cm (network coordinates)\n",
    "\n",
    "## Simulation setup\n",
    "simtime = 100 #ms \n",
    "\n",
    "## Synapses setup\n",
    "Lt,La = Lw(0.15,0.05,1,4,0.15,0.05,1,4)\n",
    "Wt,Wa,Bt,Ba = Fw(6.5,6.5,2.5,2.5,10,700,60,0.9) \n",
    "bi = 0\n",
    "pr = 0\n",
    "\n",
    "# Experimental Data\n",
    "ymin = 292.67682496787893\n",
    "ymax = 368.14828117144293 \n",
    "cp = 120-1.329*v\n",
    "slope = 11.11111111111111\n",
    "HC_RTs = RTsig(a_distances,cp,slope)\n",
    "plt.scatter(a_distances,HC_RTs)"
   ]
  },
  {
   "cell_type": "code",
   "execution_count": 9,
   "metadata": {},
   "outputs": [
    {
     "name": "stdout",
     "output_type": "stream",
     "text": [
      "differential_evolution step 1: f(x)= 0.000230218\n",
      "differential_evolution step 2: f(x)= 0.000177587\n",
      "differential_evolution step 3: f(x)= 0.000158192\n",
      "differential_evolution step 4: f(x)= 0.000119335\n",
      "differential_evolution step 5: f(x)= 0.000101427\n",
      "differential_evolution step 6: f(x)= 0.000101427\n",
      "differential_evolution step 7: f(x)= 8.52757e-05\n",
      "differential_evolution step 8: f(x)= 8.52757e-05\n",
      "differential_evolution step 9: f(x)= 8.52757e-05\n",
      "differential_evolution step 10: f(x)= 8.52757e-05\n",
      "differential_evolution step 11: f(x)= 7.52966e-05\n",
      "differential_evolution step 12: f(x)= 6.41547e-05\n",
      "differential_evolution step 13: f(x)= 6.41547e-05\n",
      "differential_evolution step 14: f(x)= 6.41547e-05\n",
      "differential_evolution step 15: f(x)= 6.41547e-05\n",
      "differential_evolution step 16: f(x)= 6.41547e-05\n",
      "differential_evolution step 17: f(x)= 6.41547e-05\n",
      "differential_evolution step 18: f(x)= 6.41547e-05\n",
      "differential_evolution step 19: f(x)= 6.41547e-05\n",
      "differential_evolution step 20: f(x)= 6.41547e-05\n",
      "differential_evolution step 21: f(x)= 6.41547e-05\n",
      "differential_evolution step 22: f(x)= 6.41547e-05\n",
      "differential_evolution step 23: f(x)= 6.41547e-05\n",
      "differential_evolution step 24: f(x)= 6.41547e-05\n",
      "differential_evolution step 25: f(x)= 6.41547e-05\n",
      "differential_evolution step 26: f(x)= 6.41547e-05\n",
      "differential_evolution step 27: f(x)= 6.41547e-05\n",
      "differential_evolution step 28: f(x)= 6.41547e-05\n",
      "differential_evolution step 29: f(x)= 6.41547e-05\n",
      "differential_evolution step 30: f(x)= 6.41547e-05\n",
      "differential_evolution step 31: f(x)= 6.41547e-05\n",
      "differential_evolution step 32: f(x)= 6.41547e-05\n",
      "differential_evolution step 33: f(x)= 6.41547e-05\n",
      "differential_evolution step 34: f(x)= 6.41547e-05\n",
      "differential_evolution step 35: f(x)= 6.41547e-05\n",
      "differential_evolution step 36: f(x)= 6.41547e-05\n",
      "differential_evolution step 37: f(x)= 6.41547e-05\n",
      "differential_evolution step 38: f(x)= 6.41547e-05\n",
      "differential_evolution step 39: f(x)= 6.41547e-05\n",
      "differential_evolution step 40: f(x)= 6.41547e-05\n",
      "differential_evolution step 41: f(x)= 6.41547e-05\n",
      "differential_evolution step 42: f(x)= 6.41547e-05\n",
      "differential_evolution step 43: f(x)= 6.41547e-05\n",
      "differential_evolution step 44: f(x)= 6.41547e-05\n",
      "differential_evolution step 45: f(x)= 6.41547e-05\n",
      "differential_evolution step 46: f(x)= 6.41547e-05\n",
      "differential_evolution step 47: f(x)= 6.41547e-05\n",
      "differential_evolution step 48: f(x)= 6.41547e-05\n",
      "differential_evolution step 49: f(x)= 6.41547e-05\n",
      "differential_evolution step 50: f(x)= 6.41547e-05\n",
      "differential_evolution step 51: f(x)= 6.41547e-05\n",
      "differential_evolution step 52: f(x)= 6.41547e-05\n",
      "differential_evolution step 53: f(x)= 6.41547e-05\n",
      "differential_evolution step 54: f(x)= 6.41547e-05\n",
      "differential_evolution step 55: f(x)= 6.41547e-05\n",
      "differential_evolution step 56: f(x)= 6.41547e-05\n",
      "differential_evolution step 57: f(x)= 6.41547e-05\n",
      "differential_evolution step 58: f(x)= 6.41547e-05\n",
      "differential_evolution step 59: f(x)= 6.41547e-05\n",
      "differential_evolution step 60: f(x)= 6.41547e-05\n",
      "differential_evolution step 61: f(x)= 6.41547e-05\n",
      "differential_evolution step 62: f(x)= 6.41547e-05\n",
      "differential_evolution step 63: f(x)= 6.41547e-05\n",
      "differential_evolution step 64: f(x)= 6.41547e-05\n",
      "differential_evolution step 65: f(x)= 6.41547e-05\n",
      "differential_evolution step 66: f(x)= 6.41547e-05\n",
      "differential_evolution step 67: f(x)= 6.41547e-05\n",
      "differential_evolution step 68: f(x)= 6.41547e-05\n",
      "differential_evolution step 69: f(x)= 5.85409e-05\n",
      "differential_evolution step 70: f(x)= 5.85409e-05\n",
      "differential_evolution step 71: f(x)= 5.85409e-05\n",
      "differential_evolution step 72: f(x)= 5.85409e-05\n",
      "differential_evolution step 73: f(x)= 5.85409e-05\n",
      "differential_evolution step 74: f(x)= 5.85409e-05\n",
      "differential_evolution step 75: f(x)= 5.85409e-05\n",
      "differential_evolution step 76: f(x)= 5.85409e-05\n",
      "differential_evolution step 77: f(x)= 5.85409e-05\n",
      "differential_evolution step 78: f(x)= 5.85409e-05\n",
      "differential_evolution step 79: f(x)= 5.85409e-05\n",
      "differential_evolution step 80: f(x)= 5.85409e-05\n",
      "differential_evolution step 81: f(x)= 5.85409e-05\n",
      "differential_evolution step 82: f(x)= 5.85409e-05\n",
      "differential_evolution step 83: f(x)= 5.85409e-05\n",
      "differential_evolution step 84: f(x)= 5.85409e-05\n",
      "differential_evolution step 85: f(x)= 5.85409e-05\n",
      "differential_evolution step 86: f(x)= 5.85409e-05\n"
     ]
    }
   ],
   "source": [
    "def boundaryhcmodelrun(theta):\n",
    "    hcRTs,ZMs,ZTs,ZAs = boundaryexperimentrun(a_distances,simtime,bi,pr,theta[0],theta[1],theta[2],theta[3])\n",
    "    xf = hcRTs\n",
    "    yf = HC_RTs\n",
    "    \n",
    "    m = (xf.size * np.sum(xf*yf) - np.sum(xf) * np.sum(yf)) / (xf.size*np.sum(xf*xf) - np.sum(xf) ** 2)\n",
    "    bias = (np.sum(yf) - m*np.sum(xf)) / xf.size    \n",
    "    \n",
    "    if bias<0: bias=0\n",
    "    if m<0: m=0\n",
    "    \n",
    "    cost = np.sum(np.square(np.divide(yf-(m*xf+bias),yf)))\n",
    "\n",
    "    return cost\n",
    "\n",
    "bounds=[(1,50),(500,1000),(20,80),(0.25,1)]\n",
    "boundaryhcres = differential_evolution(boundaryhcmodelrun,bounds,disp=True)"
   ]
  },
  {
   "cell_type": "code",
   "execution_count": 10,
   "metadata": {},
   "outputs": [
    {
     "name": "stdout",
     "output_type": "stream",
     "text": [
      "     fun: 5.854088446638357e-05\n",
      " message: 'Optimization terminated successfully.'\n",
      "    nfev: 5225\n",
      "     nit: 86\n",
      " success: True\n",
      "       x: array([ 21.55478036, 688.70848466,  53.43378121,   0.99251631])\n"
     ]
    }
   ],
   "source": [
    "print(boundaryhcres)"
   ]
  },
  {
   "cell_type": "code",
   "execution_count": 11,
   "metadata": {},
   "outputs": [],
   "source": [
    "hcRTs,ZMs,ZTs,ZAs = boundaryexperimentrun(a_distances,simtime,0,0,21.55478036, 688.70848466,  53.43378121,   0.99251631)"
   ]
  },
  {
   "cell_type": "code",
   "execution_count": 12,
   "metadata": {},
   "outputs": [
    {
     "name": "stdout",
     "output_type": "stream",
     "text": [
      "3.326543108904351 87.63605187144955\n"
     ]
    },
    {
     "data": {
      "image/png": "[encoded data removed]",
      "text/plain": [
       "<Figure size 432x288 with 1 Axes>"
      ]
     },
     "metadata": {
      "needs_background": "light"
     },
     "output_type": "display_data"
    }
   ],
   "source": [
    "xf = hcRTs\n",
    "yf = HC_RTs\n",
    "m = (xf.size * np.sum(xf*yf) - np.sum(xf) * np.sum(yf)) / (xf.size*np.sum(xf*xf) - np.sum(xf) ** 2)\n",
    "bias = (np.sum(yf) - m*np.sum(xf)) / xf.size\n",
    "\n",
    "plt.figure(1)\n",
    "plt.scatter(a_distances,m*hcRTs+bias,label = 'HC Model')\n",
    "plt.scatter(a_distances,yf,label = 'HC Data')\n",
    "plt.legend()\n",
    "print(m,bias)"
   ]
  },
  {
   "cell_type": "code",
   "execution_count": 11,
   "metadata": {},
   "outputs": [],
   "source": [
    "sczbaseline = np.asarray([m*xf+bias,yf])\n",
    "np.save('sczbaselinecopy.npy', sczbaseline)"
   ]
  },
  {
   "cell_type": "code",
   "execution_count": 12,
   "metadata": {},
   "outputs": [
    {
     "name": "stdout",
     "output_type": "stream",
     "text": [
      "[70.4 67.6 62.8 59.2 57.2]\n",
      "5.14942787941318 1.288990823894983\n"
     ]
    }
   ],
   "source": [
    "print(hcRTs)\n",
    "print(m,bias)"
   ]
  }
 ],
 "metadata": {
  "kernelspec": {
   "display_name": "Python 3",
   "language": "python",
   "name": "python3"
  },
  "language_info": {
   "codemirror_mode": {
    "name": "ipython",
    "version": 3
   },
   "file_extension": ".py",
   "mimetype": "text/x-python",
   "name": "python",
   "nbconvert_exporter": "python",
   "pygments_lexer": "ipython3",
   "version": "3.7.4"
  }
 },
 "nbformat": 4,
 "nbformat_minor": 4
}
