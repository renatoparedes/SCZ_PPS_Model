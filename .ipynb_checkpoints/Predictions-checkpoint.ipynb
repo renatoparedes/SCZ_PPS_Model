{
 "cells": [
  {
   "cell_type": "code",
   "execution_count": 1,
   "metadata": {},
   "outputs": [],
   "source": [
    "%run ./HC_model.ipynb"
   ]
  },
  {
   "cell_type": "code",
   "execution_count": 22,
   "metadata": {},
   "outputs": [],
   "source": [
    "def tactile_discrimination_experiment_alter(time,p1,p2,b):\n",
    "    dt = 0.4\n",
    "    timesteps = int(time/dt)\n",
    "    ZTs = np.zeros((Mt,Nt))\n",
    "    ti = PHI_discrimination(0,p1,2.5,p2,2.5)\n",
    "          \n",
    "    qt = np.zeros((Mt,Nt,timesteps+1))\n",
    "    ut = np.zeros((Mt,Nt,timesteps+1))\n",
    "    zt = np.zeros((Mt,Nt,timesteps+1))\n",
    "    pt = np.zeros((Mt,Nt,timesteps+1))\n",
    "\n",
    "    for i in range(timesteps):    \n",
    "        # Tactile activity\n",
    "        ut[:,:,i+1] = ti+LIt(zt[:,:,i])\n",
    "        qt[:,:,i+1] = qt[:,:,i] + (dt/tau)*(-qt[:,:,i]+ut[:,:,i])\n",
    "        pt[:,:,i+1] = psit(qt[:,:,i],b)\n",
    "        zt[:,:,i+1] = pt[:,:,i]*np.heaviside(pt[:,:,i],0)\n",
    "        \n",
    "    ZTs = zt[:,:,timesteps]    \n",
    "    \n",
    "    return ZTs"
   ]
  },
  {
   "cell_type": "code",
   "execution_count": 2,
   "metadata": {},
   "outputs": [],
   "source": [
    "### Visuotactile experiment simulation setup \n",
    "\n",
    "# Distance points in cm (network coordinates) \n",
    "s_distances = np.asarray([2700,2200,1500,800,300])/1000\n",
    "ts = np.linspace(s_distances[0],s_distances[-1],15)\n",
    "v = 30 #cm/s \n",
    "mydistances = (120 - ts*v) # distance points in cm (network coordinates)\n",
    "\n",
    "## Simulation setup\n",
    "simtime = 100 #ms \n",
    "\n",
    "## Synapses setup\n",
    "Wt,Wa,Bt,Ba = Fw(6.5,6.5,2.5,2.5) \n",
    "Lt,La = Lw(0.15,0.05,1,4,0.15,0.05,1,4)\n",
    "bi = 0\n",
    "pr = 0"
   ]
  },
  {
   "cell_type": "code",
   "execution_count": 13,
   "metadata": {},
   "outputs": [],
   "source": [
    "Lt,La = Lw(0.15,0.05,1,4,0.15,0.05,1,4)\n",
    "uRTs,uZMs,uZTs,uZAs = unisensory_experimentrun(mydistances,simtime,0,0)"
   ]
  },
  {
   "cell_type": "code",
   "execution_count": 14,
   "metadata": {},
   "outputs": [
    {
     "data": {
      "text/plain": [
       "Text(0.5, 0, 'Sound distance (cm)')"
      ]
     },
     "execution_count": 14,
     "metadata": {},
     "output_type": "execute_result"
    },
    {
     "data": {
      "image/png": "[encoded data removed]",
      "text/plain": [
       "<Figure size 432x288 with 1 Axes>"
      ]
     },
     "metadata": {
      "needs_background": "light"
     },
     "output_type": "display_data"
    }
   ],
   "source": [
    "plt.figure(1)\n",
    "plt.bar(mydistances,uZMs[-1,:],width=2,color='k');\n",
    "plt.ylabel('$z^{m}$ steady state')\n",
    "plt.xlabel('Sound distance (cm)')"
   ]
  },
  {
   "cell_type": "code",
   "execution_count": 3,
   "metadata": {},
   "outputs": [
    {
     "data": {
      "text/plain": [
       "<matplotlib.colorbar.Colorbar at 0x128c54b6a48>"
      ]
     },
     "execution_count": 3,
     "metadata": {},
     "output_type": "execute_result"
    },
    {
     "data": {
      "image/png": "[encoded data removed]",
      "text/plain": [
       "<Figure size 648x648 with 2 Axes>"
      ]
     },
     "metadata": {
      "needs_background": "light"
     },
     "output_type": "display_data"
    }
   ],
   "source": [
    "# Tactile stimuli\n",
    "it_0 = 3.25 # 3.25 works. We increase it to compensate for the lack of multisensory input.\n",
    "\n",
    "sigmat_i = 0.3\n",
    "\n",
    "Lt,La = Lw(0.15,0.05,1,4,0.15,0.05,1,4)\n",
    "p1 = 4\n",
    "p2 = 6\n",
    "hcZTs = tactile_discrimination_experiment(simtime,p1,p2,0)\n",
    "\n",
    "fig, axs = plt.subplots(1, 1, figsize=(9, 9));\n",
    "ax1 = plt.subplot(111)\n",
    "im = ax1.imshow(hcZTs.transpose(),cmap='gray')\n",
    "ax1.set_ylabel('cm',size=12)\n",
    "ax1.set_xlabel('cm',size=12)\n",
    "ax1.set_xticks(np.arange(-.5, 21, 10))\n",
    "ax1.set_yticks(np.arange(-.5, 11, 5))\n",
    "ax1.set_xticklabels([0,5,10])\n",
    "ax1.set_yticklabels([0,2.5,5][::-1])\n",
    "divider = make_axes_locatable(plt.gca())\n",
    "cax = divider.append_axes(\"right\", \"5%\", pad=\"3%\")\n",
    "fig.colorbar(im, cax=cax)\n",
    "\n",
    "#np.save('hc_discrimination.npy', hcZTs)"
   ]
  },
  {
   "cell_type": "markdown",
   "metadata": {},
   "source": [
    "**SCZ**"
   ]
  },
  {
   "cell_type": "code",
   "execution_count": 9,
   "metadata": {},
   "outputs": [],
   "source": [
    "Lt,La = Lw(0.99460344,0.05,1,4,0.99460344,0.05,1,4)\n",
    "scz_uRTs,scz_uZMs,scz_uZTs,scz_uZAs = unisensory_experimentrun(mydistances,simtime,0,1.90670129)"
   ]
  },
  {
   "cell_type": "code",
   "execution_count": 10,
   "metadata": {},
   "outputs": [
    {
     "data": {
      "text/plain": [
       "Text(0.5, 0, 'Sound distance (cm)')"
      ]
     },
     "execution_count": 10,
     "metadata": {},
     "output_type": "execute_result"
    },
    {
     "data": {
      "image/png": "[encoded data removed]",
      "text/plain": [
       "<Figure size 432x288 with 1 Axes>"
      ]
     },
     "metadata": {
      "needs_background": "light"
     },
     "output_type": "display_data"
    }
   ],
   "source": [
    "plt.figure(1)\n",
    "plt.bar(mydistances,scz_uZMs[-1,:],width=2,color='k');\n",
    "plt.ylabel('$z^{m}$ steady state')\n",
    "plt.xlabel('Sound distance (cm)')"
   ]
  },
  {
   "cell_type": "code",
   "execution_count": 4,
   "metadata": {},
   "outputs": [
    {
     "data": {
      "text/plain": [
       "<matplotlib.colorbar.Colorbar at 0x128c9fe2ec8>"
      ]
     },
     "execution_count": 4,
     "metadata": {},
     "output_type": "execute_result"
    },
    {
     "data": {
      "image/png": "[encoded data removed]",
      "text/plain": [
       "<Figure size 648x648 with 2 Axes>"
      ]
     },
     "metadata": {
      "needs_background": "light"
     },
     "output_type": "display_data"
    }
   ],
   "source": [
    "Lt,La = Lw(0.99460344,0.05,1,4,0.99460344,0.05,1,4)\n",
    "p1 = 4\n",
    "p2 = 6\n",
    "sczZTs = tactile_discrimination_experiment(simtime,p1,p2,bi)\n",
    "\n",
    "fig, axs = plt.subplots(1, 1, figsize=(9, 9));\n",
    "ax1 = plt.subplot(111)\n",
    "im = ax1.imshow(sczZTs.transpose(),cmap='gray')\n",
    "ax1.set_ylabel('cm',size=12)\n",
    "ax1.set_xlabel('cm',size=12)\n",
    "ax1.set_xticks(np.arange(-.5, 21, 10))\n",
    "ax1.set_yticks(np.arange(-.5, 11, 5))\n",
    "ax1.set_xticklabels([0,5,10])\n",
    "ax1.set_yticklabels([0,2.5,5][::-1])\n",
    "divider = make_axes_locatable(plt.gca())\n",
    "cax = divider.append_axes(\"right\", \"5%\", pad=\"3%\")\n",
    "fig.colorbar(im, cax=cax)\n",
    "\n",
    "#np.save('scz_discrimination.npy', sczZTs)"
   ]
  },
  {
   "cell_type": "code",
   "execution_count": 5,
   "metadata": {},
   "outputs": [
    {
     "data": {
      "text/plain": [
       "[<matplotlib.lines.Line2D at 0x128ca031a48>]"
      ]
     },
     "execution_count": 5,
     "metadata": {},
     "output_type": "execute_result"
    },
    {
     "data": {
      "image/png": "[encoded data removed]",
      "text/plain": [
       "<Figure size 432x288 with 1 Axes>"
      ]
     },
     "metadata": {
      "needs_background": "light"
     },
     "output_type": "display_data"
    }
   ],
   "source": [
    "plt.plot(hcZTs[:,4])\n",
    "plt.plot(sczZTs[:,4])"
   ]
  },
  {
   "cell_type": "markdown",
   "metadata": {},
   "source": [
    "**H-SPQ**"
   ]
  },
  {
   "cell_type": "code",
   "execution_count": 11,
   "metadata": {},
   "outputs": [],
   "source": [
    "Lt,La = Lw(1.25638267,0.05,1,4,1.25638267,0.05,1,4)\n",
    "spq_uRTs,spq_uZMs,spq_uZTs,spq_uZAs = unisensory_experimentrun(mydistances,simtime,0,0)"
   ]
  },
  {
   "cell_type": "code",
   "execution_count": 12,
   "metadata": {},
   "outputs": [
    {
     "data": {
      "text/plain": [
       "Text(0.5, 0, 'Sound distance (cm)')"
      ]
     },
     "execution_count": 12,
     "metadata": {},
     "output_type": "execute_result"
    },
    {
     "data": {
      "image/png": "[encoded data removed]",
      "text/plain": [
       "<Figure size 432x288 with 1 Axes>"
      ]
     },
     "metadata": {
      "needs_background": "light"
     },
     "output_type": "display_data"
    }
   ],
   "source": [
    "plt.figure(1)\n",
    "plt.bar(mydistances,spq_uZMs[-1,:],width=2,color='k');\n",
    "plt.ylabel('$z^{m}$ steady state')\n",
    "plt.xlabel('Sound distance (cm)')"
   ]
  },
  {
   "cell_type": "code",
   "execution_count": 27,
   "metadata": {},
   "outputs": [
    {
     "data": {
      "text/plain": [
       "<matplotlib.colorbar.Colorbar at 0x2d0ecf0c0c8>"
      ]
     },
     "execution_count": 27,
     "metadata": {},
     "output_type": "execute_result"
    },
    {
     "data": {
      "image/png": "[encoded data removed]",
      "text/plain": [
       "<Figure size 648x648 with 2 Axes>"
      ]
     },
     "metadata": {
      "needs_background": "light"
     },
     "output_type": "display_data"
    }
   ],
   "source": [
    "Lt,La = Lw(1.44787526,0.05,1,4,1.44787526,0.05,1,4)\n",
    "p1 = 4\n",
    "p2 = 6\n",
    "spqZTs = tactile_discrimination_experiment(simtime,p1,p2,bi)\n",
    "\n",
    "fig, axs = plt.subplots(1, 1, figsize=(9, 9));\n",
    "ax1 = plt.subplot(111)\n",
    "im = ax1.imshow(spqZTs.transpose(),cmap='gray')\n",
    "ax1.set_ylabel('cm',size=12)\n",
    "ax1.set_xlabel('cm',size=12)\n",
    "ax1.set_xticks(np.arange(-.5, 21, 10))\n",
    "ax1.set_yticks(np.arange(-.5, 11, 5))\n",
    "ax1.set_xticklabels([0,5,10])\n",
    "ax1.set_yticklabels([0,2.5,5][::-1])\n",
    "divider = make_axes_locatable(plt.gca())\n",
    "cax = divider.append_axes(\"right\", \"5%\", pad=\"3%\")\n",
    "fig.colorbar(im, cax=cax)"
   ]
  },
  {
   "cell_type": "code",
   "execution_count": 28,
   "metadata": {},
   "outputs": [
    {
     "data": {
      "text/plain": [
       "[<matplotlib.lines.Line2D at 0x2d0eb7c5d08>]"
      ]
     },
     "execution_count": 28,
     "metadata": {},
     "output_type": "execute_result"
    },
    {
     "data": {
      "image/png": "[encoded data removed]",
      "text/plain": [
       "<Figure size 432x288 with 1 Axes>"
      ]
     },
     "metadata": {
      "needs_background": "light"
     },
     "output_type": "display_data"
    }
   ],
   "source": [
    "plt.plot(spqZTs[:,4])"
   ]
  }
 ],
 "metadata": {
  "kernelspec": {
   "display_name": "Python 3",
   "language": "python",
   "name": "python3"
  },
  "language_info": {
   "codemirror_mode": {
    "name": "ipython",
    "version": 3
   },
   "file_extension": ".py",
   "mimetype": "text/x-python",
   "name": "python",
   "nbconvert_exporter": "python",
   "pygments_lexer": "ipython3",
   "version": "3.7.4"
  }
 },
 "nbformat": 4,
 "nbformat_minor": 4
}
