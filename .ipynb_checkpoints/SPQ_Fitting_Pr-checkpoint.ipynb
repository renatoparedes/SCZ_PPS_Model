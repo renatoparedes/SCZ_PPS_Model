{
 "cells": [
  {
   "cell_type": "code",
   "execution_count": 1,
   "metadata": {},
   "outputs": [],
   "source": [
    "### Load PPS model\n",
    "%run ./HC_model.ipynb"
   ]
  },
  {
   "cell_type": "code",
   "execution_count": 2,
   "metadata": {},
   "outputs": [
    {
     "data": {
      "text/plain": [
       "<matplotlib.collections.PathCollection at 0x1eb65f37288>"
      ]
     },
     "execution_count": 2,
     "metadata": {},
     "output_type": "execute_result"
    },
    {
     "data": {
      "image/png": "[encoded data removed]",
      "text/plain": [
       "<Figure size 432x288 with 1 Axes>"
      ]
     },
     "metadata": {
      "needs_background": "light"
     },
     "output_type": "display_data"
    }
   ],
   "source": [
    "### Audio-tactile experiment simulation setup \n",
    "\n",
    "## Calculate distance in cms. Speaker is positioned at 100cm from the hand. \n",
    "s_distances = np.asarray([2700,2200,1500,800,300])/1000\n",
    "ts = np.linspace(s_distances[0],s_distances[-1],7)\n",
    "v = 30 #cm/s \n",
    "a_distances = (120 - ts*v) # distance points in cm (network coordinates)\n",
    "\n",
    "## Simulation setup\n",
    "simtime = 100 #ms \n",
    "\n",
    "## Synapses setup\n",
    "b = 2.5\n",
    "pr = 0\n",
    "\n",
    "# Experimental Data\n",
    "ymin = 267.49264705882354\n",
    "ymax = 344.6744295011452\n",
    "cp = 120-1.542*v\n",
    "slope = 1/0.11724137931\n",
    "SPQ_RTs = RTsig(a_distances,cp,slope)\n",
    "plt.scatter(a_distances,SPQ_RTs)"
   ]
  },
  {
   "cell_type": "code",
   "execution_count": 4,
   "metadata": {},
   "outputs": [
    {
     "name": "stdout",
     "output_type": "stream",
     "text": [
      "differential_evolution step 1: f(x)= 115.915\n",
      "differential_evolution step 2: f(x)= 115.915\n",
      "differential_evolution step 3: f(x)= 115.915\n",
      "differential_evolution step 4: f(x)= 115.915\n",
      "differential_evolution step 5: f(x)= 115.915\n"
     ]
    }
   ],
   "source": [
    "def spqmodelrun(theta):\n",
    "    spqRTs,ZMs,ZTs,ZAs = experimentrun(a_distances,simtime,b,theta[0],0.15,0.05,1,4)\n",
    "    xf = spqRTs\n",
    "    yf = SPQ_RTs\n",
    "    \n",
    "    m = (xf.size * np.sum(xf*yf) - np.sum(xf) * np.sum(yf)) / (xf.size*np.sum(xf*xf) - np.sum(xf) ** 2)\n",
    "    bias = (np.sum(yf) - m*np.sum(xf)) / xf.size\n",
    "    \n",
    "    if bias<0: bias=0\n",
    "    if m<0: m=0\n",
    "    \n",
    "    cost = np.sum(np.square(np.divide(yf-(m*xf+bias),yf)))\n",
    "    \n",
    "    return cost*100000\n",
    "\n",
    "bounds=[(0,6.5)]\n",
    "res = differential_evolution(spqmodelrun,bounds,disp=True)"
   ]
  },
  {
   "cell_type": "code",
   "execution_count": 5,
   "metadata": {},
   "outputs": [
    {
     "name": "stdout",
     "output_type": "stream",
     "text": [
      "     fun: 115.91468483850912\n",
      " message: 'Optimization terminated successfully.'\n",
      "    nfev: 92\n",
      "     nit: 5\n",
      " success: True\n",
      "       x: array([2.01196199])\n"
     ]
    }
   ],
   "source": [
    "print(res)"
   ]
  },
  {
   "cell_type": "code",
   "execution_count": 3,
   "metadata": {},
   "outputs": [],
   "source": [
    "spqRTs,ZMs,ZTs,ZAs = experimentrun(a_distances,simtime,b,2.01196199,0.15,0.05,1,4)"
   ]
  },
  {
   "cell_type": "code",
   "execution_count": 4,
   "metadata": {},
   "outputs": [
    {
     "name": "stdout",
     "output_type": "stream",
     "text": [
      "2.153150939946669 146.90836154099634\n"
     ]
    },
    {
     "data": {
      "image/png": "[encoded data removed]",
      "text/plain": [
       "<Figure size 432x288 with 1 Axes>"
      ]
     },
     "metadata": {
      "needs_background": "light"
     },
     "output_type": "display_data"
    }
   ],
   "source": [
    "xf = spqRTs\n",
    "yf = SPQ_RTs    \n",
    "m = (xf.size * np.sum(xf*yf) - np.sum(xf) * np.sum(yf)) / (xf.size*np.sum(xf*xf) - np.sum(xf) ** 2)\n",
    "bias = (np.sum(yf) - m*np.sum(xf)) / xf.size\n",
    "\n",
    "ymin,ymax = np.min(m*xf+bias),np.max(m*xf+bias) \n",
    "dc,h = sigfit(a_distances,m*xf+bias)\n",
    "a_distances_exp = np.linspace(a_distances[0],a_distances[-1],30)\n",
    "yf_exp = RTsig(a_distances_exp,dc,h)\n",
    "\n",
    "plt.figure(1)\n",
    "plt.plot(a_distances_exp,yf_exp,label = 'SPQ Model',color='g')\n",
    "plt.scatter(a_distances,yf,label = 'SPQ Data',color='g')\n",
    "plt.legend()\n",
    "print(m,bias)"
   ]
  },
  {
   "cell_type": "code",
   "execution_count": 7,
   "metadata": {},
   "outputs": [],
   "source": [
    "spqres = np.asarray([yf_exp,yf])\n",
    "np.save('spq_pr.npy', spqres)"
   ]
  },
  {
   "cell_type": "code",
   "execution_count": 8,
   "metadata": {},
   "outputs": [
    {
     "name": "stdout",
     "output_type": "stream",
     "text": [
      "4.134159001770089\n"
     ]
    }
   ],
   "source": [
    "from sklearn import metrics\n",
    "print(metrics.mean_squared_error(yf,m*xf+bias,squared=False))"
   ]
  },
  {
   "cell_type": "code",
   "execution_count": 9,
   "metadata": {},
   "outputs": [
    {
     "name": "stdout",
     "output_type": "stream",
     "text": [
      "5.468978299541346\n"
     ]
    }
   ],
   "source": [
    "def adjrmse(model,data,k):\n",
    "    sse = np.sum(np.square(data-model))\n",
    "    n = len(model)\n",
    "    return np.sqrt(sse/(n-k))\n",
    "\n",
    "spq_error = adjrmse(m*xf+bias,spqres[1],3)\n",
    "print(spq_error)"
   ]
  }
 ],
 "metadata": {
  "kernelspec": {
   "display_name": "Python 3",
   "language": "python",
   "name": "python3"
  },
  "language_info": {
   "codemirror_mode": {
    "name": "ipython",
    "version": 3
   },
   "file_extension": ".py",
   "mimetype": "text/x-python",
   "name": "python",
   "nbconvert_exporter": "python",
   "pygments_lexer": "ipython3",
   "version": "3.7.4"
  },
  "widgets": {
   "application/vnd.jupyter.widget-state+json": {
    "state": {},
    "version_major": 2,
    "version_minor": 0
   }
  }
 },
 "nbformat": 4,
 "nbformat_minor": 4
}
