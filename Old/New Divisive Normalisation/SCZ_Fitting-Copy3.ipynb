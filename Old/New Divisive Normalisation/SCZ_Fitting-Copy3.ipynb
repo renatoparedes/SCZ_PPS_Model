{
 "cells": [
  {
   "cell_type": "code",
   "execution_count": 1,
   "metadata": {},
   "outputs": [],
   "source": [
    "### Load PPS model\n",
    "%run ./PPS_model.ipynb"
   ]
  },
  {
   "cell_type": "code",
   "execution_count": 2,
   "metadata": {},
   "outputs": [],
   "source": [
    "### Load experimental data (Di Cosmo et al., 2017)\n",
    "\n",
    "HCdata = pd.read_excel (r'PPS_data_SCZ_SPQ.xlsx',sheet_name='HC') \n",
    "SCZdata = pd.read_excel (r'PPS_data_SCZ_SPQ.xlsx',sheet_name='SCZ') \n",
    "SPQdata = pd.read_excel (r'PPS_data_SCZ_SPQ.xlsx',sheet_name='high spq') \n",
    "LSPQdata = pd.read_excel (r'PPS_data_SCZ_SPQ.xlsx',sheet_name='low spq') \n",
    "\n",
    "sets = [HCdata,SCZdata,SPQdata,LSPQdata]\n",
    "RTdata = []\n",
    "\n",
    "for i in sets:\n",
    "    subjects = i['Subject'].unique()\n",
    "    delays = i[(i['Sound']=='Loom')&(i['Cond'] != 'Loom_NO')]['Cond'].unique()\n",
    "    delays = np.delete(delays,np.where(delays=='Loom_-700')[0])\n",
    "    idx = [3,4,0,1,2]\n",
    "    delays = delays[idx]\n",
    "    RTs = []\n",
    "    \n",
    "    for s in subjects:\n",
    "        meanRTs = []\n",
    "        for t in delays:\n",
    "            RT = i[(i['Subject'] == s)&(i['Cond'] == t)]['Rtpul']           \n",
    "            meanRTs.append(np.mean(RT))\n",
    "        RTs.append(meanRTs)\n",
    "    RTdata.append(RTs)\n",
    "    \n",
    "HC_RTs = np.asarray(RTdata[0])\n",
    "SCZ_RTs = np.asarray(RTdata[1])\n",
    "SPQ_RTs = np.asarray(RTdata[2])\n",
    "LSPQ_RTs = np.asarray(RTdata[3])"
   ]
  },
  {
   "cell_type": "code",
   "execution_count": 3,
   "metadata": {},
   "outputs": [],
   "source": [
    "### Audio-tactile experiment simulation setup \n",
    "\n",
    "## Calculate distance in cms. Speaker is positioned at 100cm from the hand. \n",
    "times = np.asarray([300,800,1500,2200,2700])\n",
    "timesweep = np.arange(300,2800,100)\n",
    "ts = timesweep/1000\n",
    "v = 30 #cm/s \n",
    "a_distances = (120 - ts*v) # distance points in cm (network coordinates)\n",
    "\n",
    "## Simulation setup\n",
    "simtime = 200 #ms \n",
    "\n",
    "## Synapses setup\n",
    "Wt,Wa,Bt,Ba = Fw(6.5,6.5,2.5,2.5) \n",
    "bi = 0\n",
    "pr = 0"
   ]
  },
  {
   "cell_type": "code",
   "execution_count": 4,
   "metadata": {},
   "outputs": [],
   "source": [
    "## Lateral inputs\n",
    "\n",
    "# Tactile area\n",
    "def myLIt(z,Lt): # z is a matrix of MtxNt dimensions\n",
    "    LI = np.zeros(Mt*Nt)\n",
    "    z = np.reshape(z,(1,Mt*Nt))\n",
    "    for i in range(Mt*Nt):\n",
    "            LI[i] = np.sum(np.multiply(Lt[i,:],z[0,:])) \n",
    "    LI = np.reshape(LI,(Mt,Nt))\n",
    "    return LI\n",
    "# Auditory area\n",
    "def myLIa(z,La): # z is a matrix of MaxNa dimensions\n",
    "    LI = np.zeros(Ma*Na)\n",
    "    z = np.reshape(z,(1,Ma*Na))\n",
    "    for i in range(Ma*Na):\n",
    "            LI[i] = np.sum(np.multiply(La[i,:],z[0,:])) \n",
    "    LI = np.reshape(LI,(Ma,Na))\n",
    "    return LI\n",
    "\n",
    "\n",
    "## Experiment function\n",
    "def myexperimentrun(a_distances,time,b,pr,Lex,Lin,Sex,Sin):\n",
    "    Lt,La = Lw(Lex,Lin,Sex,Sin,Lex,Lin,Sex*20,Sin*20)\n",
    "    \n",
    "    dt = 0.4\n",
    "    timesteps = int(time/dt)\n",
    "    ndist = len(a_distances)\n",
    "    \n",
    "    RTs = np.zeros(ndist)\n",
    "    ZTs = np.zeros((Mt,Nt,ndist))\n",
    "    ZAs = np.zeros((Ma,Na,ndist))\n",
    "    \n",
    "    ti = PHIt(0) \n",
    "    PrBa = prun(Ba,pr)\n",
    "    PrWa = prun(Wa,pr*2.6)\n",
    "    dtau = dt/tau\n",
    "    \n",
    "    qt = np.zeros((Mt,Nt,timesteps+1,ndist))\n",
    "    ut = np.zeros((Mt,Nt,timesteps+1,ndist))\n",
    "    zt = np.zeros((Mt,Nt,timesteps+1,ndist))\n",
    "    pt = np.zeros((Mt,Nt,timesteps+1,ndist))\n",
    "\n",
    "    qa = np.zeros((Ma,Na,timesteps+1,ndist))\n",
    "    ua = np.zeros((Ma,Na,timesteps+1,ndist))\n",
    "    za = np.zeros((Ma,Na,timesteps+1,ndist))\n",
    "    pa = np.zeros((Ma,Na,timesteps+1,ndist))\n",
    "\n",
    "    qm = np.zeros((timesteps+1,ndist))\n",
    "    um = np.zeros((timesteps+1,ndist))\n",
    "    zm = np.zeros((timesteps+1,ndist))\n",
    "    pm = np.zeros((timesteps+1,ndist))\n",
    "    \n",
    "    ZT = np.zeros((1,timesteps+1,ndist))\n",
    "    \n",
    "    for d in range(ndist):\n",
    "        xa_0 = a_distances[d] # How far the sound is presented.     \n",
    "        ai = PHIa(0,xa_0) # Generates an auditory input\n",
    "\n",
    "        for i in range(timesteps):    \n",
    "            # Tactile activity\n",
    "            ut[:,:,i+1,d] = ti+myLIt(zt[:,:,i,d],Lt)+bt(zm[i,d])\n",
    "            qt[:,:,i+1,d] = qt[:,:,i,d] + dtau*(-qt[:,:,i,d]+ut[:,:,i,d])\n",
    "            pt[:,:,i+1,d] = psit(qt[:,:,i,d],b)\n",
    "            zt[:,:,i+1,d] = pt[:,:,i,d]*np.heaviside(pt[:,:,i,d],0)\n",
    "\n",
    "            ZT[0,i+1,d] = np.sum(zt[:,:,i,d])\n",
    "\n",
    "            # Auditory activity\n",
    "            ua[:,:,i+1,d] = ai+myLIa(za[:,:,i,d],La)+ba(zm[i,d],PrBa) \n",
    "            qa[:,:,i+1,d] = qa[:,:,i,d] + dtau*(-qa[:,:,i,d]+ua[:,:,i,d])\n",
    "            pa[:,:,i+1,d] = psia(qa[:,:,i,d],b)\n",
    "            za[:,:,i+1,d] = pa[:,:,i,d]*np.heaviside(pa[:,:,i,d],0)\n",
    "\n",
    "            # Multisensory activity\n",
    "            um[i+1,d] = np.sum(np.multiply(Wt,zt[:,:,i,d])) + np.sum(np.multiply(PrWa,za[:,:,i,d]))\n",
    "            qm[i+1,d] = qm[i,d] + dtau*(-qm[i,d]+um[i,d])\n",
    "            pm[i+1,d] = psim(qm[i,d])\n",
    "            zm[i+1,d] = pm[i,d]*np.heaviside(pm[i,d],0)    \n",
    "        RT = np.argmax(zt[19,9,:,d]>0.9)*dt\n",
    "    \n",
    "        RTs[d] = RT\n",
    "        ZMs = zm        \n",
    "        ZTs[:,:,d] = zt[:,:,timesteps,d]\n",
    "        ZAs[:,:,d] = za[:,:,timesteps,d]   \n",
    "    return RTs,ZMs,ZTs,ZAs\n"
   ]
  },
  {
   "cell_type": "code",
   "execution_count": null,
   "metadata": {},
   "outputs": [
    {
     "name": "stdout",
     "output_type": "stream",
     "text": [
      "differential_evolution step 1: f(x)= 415.983\n",
      "differential_evolution step 2: f(x)= 415.983\n",
      "differential_evolution step 3: f(x)= 415.983\n",
      "differential_evolution step 4: f(x)= 391.347\n",
      "differential_evolution step 5: f(x)= 391.347\n",
      "differential_evolution step 6: f(x)= 391.347\n",
      "differential_evolution step 7: f(x)= 391.347\n",
      "differential_evolution step 8: f(x)= 382.066\n",
      "differential_evolution step 9: f(x)= 382.066\n",
      "differential_evolution step 10: f(x)= 382.066\n",
      "differential_evolution step 11: f(x)= 382.066\n",
      "differential_evolution step 12: f(x)= 382.066\n",
      "differential_evolution step 13: f(x)= 382.066\n",
      "differential_evolution step 14: f(x)= 382.066\n",
      "differential_evolution step 15: f(x)= 382.066\n",
      "differential_evolution step 16: f(x)= 382.066\n",
      "differential_evolution step 17: f(x)= 382.066\n",
      "differential_evolution step 18: f(x)= 382.066\n",
      "differential_evolution step 19: f(x)= 382.066\n",
      "differential_evolution step 20: f(x)= 382.066\n",
      "differential_evolution step 21: f(x)= 382.066\n",
      "differential_evolution step 22: f(x)= 382.066\n",
      "differential_evolution step 23: f(x)= 382.066\n",
      "differential_evolution step 24: f(x)= 382.066\n",
      "differential_evolution step 25: f(x)= 382.066\n",
      "differential_evolution step 26: f(x)= 382.066\n",
      "differential_evolution step 27: f(x)= 382.066\n",
      "differential_evolution step 28: f(x)= 382.066\n",
      "differential_evolution step 29: f(x)= 382.066\n",
      "differential_evolution step 30: f(x)= 382.066\n",
      "differential_evolution step 31: f(x)= 382.066\n",
      "differential_evolution step 32: f(x)= 382.066\n",
      "differential_evolution step 33: f(x)= 382.066\n",
      "differential_evolution step 34: f(x)= 382.066\n",
      "differential_evolution step 35: f(x)= 382.066\n",
      "differential_evolution step 36: f(x)= 382.066\n",
      "differential_evolution step 37: f(x)= 382.066\n",
      "differential_evolution step 38: f(x)= 382.066\n",
      "differential_evolution step 39: f(x)= 382.066\n",
      "differential_evolution step 40: f(x)= 382.066\n",
      "differential_evolution step 41: f(x)= 382.066\n",
      "differential_evolution step 42: f(x)= 382.066\n",
      "differential_evolution step 43: f(x)= 382.066\n",
      "differential_evolution step 44: f(x)= 382.066\n",
      "differential_evolution step 45: f(x)= 382.066\n",
      "differential_evolution step 46: f(x)= 382.066\n",
      "differential_evolution step 47: f(x)= 382.066\n",
      "differential_evolution step 48: f(x)= 382.066\n",
      "differential_evolution step 49: f(x)= 382.066\n",
      "differential_evolution step 50: f(x)= 382.066\n",
      "differential_evolution step 51: f(x)= 382.066\n",
      "differential_evolution step 52: f(x)= 382.066\n",
      "differential_evolution step 53: f(x)= 382.066\n",
      "differential_evolution step 54: f(x)= 382.066\n",
      "differential_evolution step 55: f(x)= 382.066\n",
      "differential_evolution step 56: f(x)= 382.066\n",
      "differential_evolution step 57: f(x)= 382.066\n",
      "differential_evolution step 58: f(x)= 382.066\n",
      "differential_evolution step 59: f(x)= 382.066\n",
      "differential_evolution step 60: f(x)= 382.066\n",
      "differential_evolution step 61: f(x)= 382.066\n",
      "differential_evolution step 62: f(x)= 382.066\n",
      "differential_evolution step 63: f(x)= 382.066\n",
      "differential_evolution step 64: f(x)= 382.066\n",
      "differential_evolution step 65: f(x)= 382.066\n",
      "differential_evolution step 66: f(x)= 382.066\n",
      "differential_evolution step 67: f(x)= 382.066\n",
      "differential_evolution step 68: f(x)= 382.066\n",
      "differential_evolution step 69: f(x)= 382.066\n",
      "differential_evolution step 70: f(x)= 382.066\n",
      "differential_evolution step 71: f(x)= 382.066\n",
      "differential_evolution step 72: f(x)= 382.066\n",
      "differential_evolution step 73: f(x)= 382.066\n",
      "differential_evolution step 74: f(x)= 382.066\n",
      "differential_evolution step 75: f(x)= 382.066\n",
      "differential_evolution step 76: f(x)= 382.066\n",
      "differential_evolution step 77: f(x)= 382.066\n",
      "differential_evolution step 78: f(x)= 382.066\n",
      "differential_evolution step 79: f(x)= 382.066\n",
      "differential_evolution step 80: f(x)= 382.066\n",
      "differential_evolution step 81: f(x)= 382.066\n",
      "differential_evolution step 82: f(x)= 382.066\n",
      "differential_evolution step 83: f(x)= 382.066\n",
      "differential_evolution step 84: f(x)= 382.066\n",
      "differential_evolution step 85: f(x)= 382.066\n",
      "differential_evolution step 86: f(x)= 382.066\n",
      "differential_evolution step 87: f(x)= 382.066\n",
      "differential_evolution step 88: f(x)= 382.066\n",
      "differential_evolution step 89: f(x)= 382.066\n",
      "differential_evolution step 90: f(x)= 382.066\n",
      "differential_evolution step 91: f(x)= 382.066\n",
      "differential_evolution step 92: f(x)= 382.066\n",
      "differential_evolution step 93: f(x)= 382.066\n",
      "differential_evolution step 94: f(x)= 382.066\n",
      "differential_evolution step 95: f(x)= 382.066\n",
      "differential_evolution step 96: f(x)= 382.066\n",
      "differential_evolution step 97: f(x)= 382.066\n",
      "differential_evolution step 98: f(x)= 382.066\n",
      "differential_evolution step 99: f(x)= 382.066\n",
      "differential_evolution step 100: f(x)= 382.066\n",
      "differential_evolution step 101: f(x)= 382.066\n",
      "differential_evolution step 102: f(x)= 382.066\n",
      "differential_evolution step 103: f(x)= 382.066\n",
      "differential_evolution step 104: f(x)= 382.066\n",
      "differential_evolution step 105: f(x)= 382.066\n",
      "differential_evolution step 106: f(x)= 382.066\n",
      "differential_evolution step 107: f(x)= 382.066\n",
      "differential_evolution step 108: f(x)= 382.066\n",
      "differential_evolution step 109: f(x)= 382.066\n",
      "differential_evolution step 110: f(x)= 382.066\n",
      "differential_evolution step 111: f(x)= 382.066\n",
      "differential_evolution step 112: f(x)= 382.066\n",
      "differential_evolution step 113: f(x)= 382.066\n",
      "differential_evolution step 114: f(x)= 382.066\n",
      "differential_evolution step 115: f(x)= 382.066\n",
      "differential_evolution step 116: f(x)= 382.066\n",
      "differential_evolution step 117: f(x)= 382.066\n",
      "differential_evolution step 118: f(x)= 382.066\n",
      "differential_evolution step 119: f(x)= 382.066\n",
      "differential_evolution step 120: f(x)= 382.066\n",
      "differential_evolution step 121: f(x)= 382.066\n",
      "differential_evolution step 122: f(x)= 382.066\n",
      "differential_evolution step 123: f(x)= 382.066\n",
      "differential_evolution step 124: f(x)= 382.066\n",
      "differential_evolution step 125: f(x)= 382.066\n",
      "differential_evolution step 126: f(x)= 382.066\n",
      "differential_evolution step 127: f(x)= 382.066\n",
      "differential_evolution step 128: f(x)= 382.066\n",
      "differential_evolution step 129: f(x)= 382.066\n",
      "differential_evolution step 130: f(x)= 382.066\n",
      "differential_evolution step 131: f(x)= 382.066\n",
      "differential_evolution step 132: f(x)= 382.066\n",
      "differential_evolution step 133: f(x)= 382.066\n",
      "differential_evolution step 134: f(x)= 382.066\n",
      "differential_evolution step 135: f(x)= 382.066\n",
      "differential_evolution step 136: f(x)= 382.066\n",
      "differential_evolution step 137: f(x)= 382.066\n",
      "differential_evolution step 138: f(x)= 382.066\n",
      "differential_evolution step 139: f(x)= 382.066\n",
      "differential_evolution step 140: f(x)= 382.066\n",
      "differential_evolution step 141: f(x)= 382.066\n",
      "differential_evolution step 142: f(x)= 382.066\n",
      "differential_evolution step 143: f(x)= 382.066\n",
      "differential_evolution step 144: f(x)= 382.066\n",
      "differential_evolution step 145: f(x)= 382.066\n",
      "differential_evolution step 146: f(x)= 382.066\n",
      "differential_evolution step 147: f(x)= 382.066\n",
      "differential_evolution step 148: f(x)= 382.066\n",
      "differential_evolution step 149: f(x)= 382.066\n",
      "differential_evolution step 150: f(x)= 382.066\n",
      "differential_evolution step 151: f(x)= 382.066\n",
      "differential_evolution step 152: f(x)= 382.066\n",
      "differential_evolution step 153: f(x)= 382.066\n",
      "differential_evolution step 154: f(x)= 382.066\n",
      "differential_evolution step 155: f(x)= 382.066\n"
     ]
    }
   ],
   "source": [
    "idx = [0,5,12,19,24]\n",
    "distances = np.take(a_distances,idx)\n",
    "edata = np.mean(SCZ_RTs,axis=0)\n",
    "\n",
    "def sczmodelrun(theta):\n",
    "    sczRTs,ZMs,ZTs,ZAs = myexperimentrun(distances,simtime,bi,pr,theta[0],theta[1],theta[2],theta[3])\n",
    "    yf = edata\n",
    "    xf = sczRTs\n",
    "    \n",
    "    m = (xf.size * np.sum(xf*yf) - np.sum(xf) * np.sum(yf)) / (xf.size*np.sum(xf*xf) - np.sum(xf) ** 2)\n",
    "    bias = (np.sum(yf) - m*np.sum(xf)) / xf.size\n",
    "    \n",
    "    if bias<0: bias=0\n",
    "    if m<0: m=0\n",
    "    \n",
    "    cost = np.sum(np.square(np.divide(yf-(m*xf+bias),yf)))\n",
    "    \n",
    "    return cost*100000\n",
    "\n",
    "bounds=[(0,1.5),(0,2.95),(0.01,1.25),(0.01,10)]\n",
    "res = differential_evolution(sczmodelrun,bounds,disp=True,strategy='rand1bin')\n",
    "# Try with bounds 0 to 1.25. "
   ]
  },
  {
   "cell_type": "code",
   "execution_count": null,
   "metadata": {},
   "outputs": [],
   "source": [
    "print(res)"
   ]
  },
  {
   "cell_type": "code",
   "execution_count": 7,
   "metadata": {},
   "outputs": [],
   "source": [
    "idx = [0,5,12,19,24]\n",
    "distances = np.take(a_distances,idx)\n",
    "sczRTs,ZMs,ZTs,ZAs = myexperimentrun(distances,simtime,0,0,1.3351804 , 0.4138984 , 0.52653547, 7.82810044)"
   ]
  },
  {
   "cell_type": "code",
   "execution_count": 9,
   "metadata": {},
   "outputs": [
    {
     "data": {
      "text/plain": [
       "<matplotlib.legend.Legend at 0x2287d336f48>"
      ]
     },
     "execution_count": 9,
     "metadata": {},
     "output_type": "execute_result"
    },
    {
     "data": {
      "image/png": "[encoded data removed]",
      "text/plain": [
       "<Figure size 432x288 with 1 Axes>"
      ]
     },
     "metadata": {
      "needs_background": "light"
     },
     "output_type": "display_data"
    }
   ],
   "source": [
    "xf = sczRTs\n",
    "yf = np.mean(SCZ_RTs,axis=0)    \n",
    "m = (xf.size * np.sum(xf*yf) - np.sum(xf) * np.sum(yf)) / (xf.size*np.sum(xf*xf) - np.sum(xf) ** 2)\n",
    "bias = (np.sum(yf) - m*np.sum(xf)) / xf.size\n",
    "\n",
    "if bias<0: bias=0\n",
    "if m<0: m=0\n",
    "\n",
    "plt.figure(1)\n",
    "plt.scatter(distances,m*sczRTs+bias,label = 'SCZ Model')\n",
    "plt.scatter(distances,yf,label = 'SCZ Data')\n",
    "plt.legend()"
   ]
  },
  {
   "cell_type": "code",
   "execution_count": 10,
   "metadata": {},
   "outputs": [],
   "source": [
    "sczres = np.asarray([m*xf+bias,yf])\n",
    "np.save('sczrescopy2.npy', sczres)"
   ]
  },
  {
   "cell_type": "code",
   "execution_count": 11,
   "metadata": {},
   "outputs": [
    {
     "data": {
      "image/png": "[encoded data removed]",
      "text/plain": [
       "<Figure size 432x288 with 1 Axes>"
      ]
     },
     "metadata": {
      "needs_background": "light"
     },
     "output_type": "display_data"
    },
    {
     "data": {
      "image/png": "[encoded data removed]",
      "text/plain": [
       "<Figure size 432x288 with 1 Axes>"
      ]
     },
     "metadata": {
      "needs_background": "light"
     },
     "output_type": "display_data"
    },
    {
     "data": {
      "image/png": "[encoded data removed]",
      "text/plain": [
       "<Figure size 432x288 with 1 Axes>"
      ]
     },
     "metadata": {
      "needs_background": "light"
     },
     "output_type": "display_data"
    }
   ],
   "source": [
    "evdis = 4\n",
    "\n",
    "plt.figure(2)\n",
    "plt.imshow(ZTs[:,:,evdis].transpose());\n",
    "\n",
    "plt.figure(3)\n",
    "plt.imshow(ZAs[:,:,evdis].transpose());\n",
    "\n",
    "plt.figure(4)\n",
    "plt.plot(ZMs);"
   ]
  },
  {
   "cell_type": "code",
   "execution_count": 19,
   "metadata": {},
   "outputs": [],
   "source": [
    "Lt,Lv = Lw(1.49474331,0.90056506,1.22327119,0.11224038,1.49474331,0.90056506,1.22327119*20,0.11224038*20)"
   ]
  },
  {
   "cell_type": "code",
   "execution_count": 12,
   "metadata": {},
   "outputs": [
    {
     "ename": "NameError",
     "evalue": "name 'Lt' is not defined",
     "output_type": "error",
     "traceback": [
      "\u001b[1;31m---------------------------------------------------------------------------\u001b[0m",
      "\u001b[1;31mNameError\u001b[0m                                 Traceback (most recent call last)",
      "\u001b[1;32m<ipython-input-12-4cb332438f09>\u001b[0m in \u001b[0;36m<module>\u001b[1;34m\u001b[0m\n\u001b[0;32m      3\u001b[0m \u001b[1;33m\u001b[0m\u001b[0m\n\u001b[0;32m      4\u001b[0m \u001b[0max1\u001b[0m \u001b[1;33m=\u001b[0m \u001b[0mplt\u001b[0m\u001b[1;33m.\u001b[0m\u001b[0msubplot\u001b[0m\u001b[1;33m(\u001b[0m\u001b[1;36m121\u001b[0m\u001b[1;33m)\u001b[0m\u001b[1;33m\u001b[0m\u001b[1;33m\u001b[0m\u001b[0m\n\u001b[1;32m----> 5\u001b[1;33m \u001b[0mim1\u001b[0m \u001b[1;33m=\u001b[0m \u001b[0max1\u001b[0m\u001b[1;33m.\u001b[0m\u001b[0mimshow\u001b[0m\u001b[1;33m(\u001b[0m\u001b[0mLt\u001b[0m\u001b[1;33m)\u001b[0m\u001b[1;33m\u001b[0m\u001b[1;33m\u001b[0m\u001b[0m\n\u001b[0m\u001b[0;32m      6\u001b[0m \u001b[0max1\u001b[0m\u001b[1;33m.\u001b[0m\u001b[0mset_xlabel\u001b[0m\u001b[1;33m(\u001b[0m\u001b[1;34m'Neuron number'\u001b[0m\u001b[1;33m,\u001b[0m\u001b[0msize\u001b[0m\u001b[1;33m=\u001b[0m\u001b[1;36m16\u001b[0m\u001b[1;33m)\u001b[0m\u001b[1;33m\u001b[0m\u001b[1;33m\u001b[0m\u001b[0m\n\u001b[0;32m      7\u001b[0m \u001b[0max1\u001b[0m\u001b[1;33m.\u001b[0m\u001b[0mset_ylabel\u001b[0m\u001b[1;33m(\u001b[0m\u001b[1;34m'Neuron number'\u001b[0m\u001b[1;33m,\u001b[0m\u001b[0msize\u001b[0m\u001b[1;33m=\u001b[0m\u001b[1;36m16\u001b[0m\u001b[1;33m)\u001b[0m\u001b[1;33m\u001b[0m\u001b[1;33m\u001b[0m\u001b[0m\n",
      "\u001b[1;31mNameError\u001b[0m: name 'Lt' is not defined"
     ]
    },
    {
     "data": {
      "image/png": "[encoded data removed]",
      "text/plain": [
       "<Figure size 864x288 with 2 Axes>"
      ]
     },
     "metadata": {
      "needs_background": "light"
     },
     "output_type": "display_data"
    }
   ],
   "source": [
    "fig, (ax1,ax2) = plt.subplots(1,2,sharex=True,figsize=(12,4));\n",
    "fig.subplots_adjust(wspace = 0.75, hspace = 0.5)\n",
    "\n",
    "ax1 = plt.subplot(121)\n",
    "im1 = ax1.imshow(Lt)\n",
    "ax1.set_xlabel('Neuron number',size=16)\n",
    "ax1.set_ylabel('Neuron number',size=16)\n",
    "divider = make_axes_locatable(plt.gca())\n",
    "cax = divider.append_axes(\"right\", \"5%\", pad=\"3%\")\n",
    "cbar = fig.colorbar(im1,cax=cax)\n",
    "cbar.ax.get_yaxis().labelpad = 12\n",
    "cbar.ax.set_ylabel('L\\u1D57', rotation=270,size=18)\n",
    "ax1.text(-0.1, 1.1, string.ascii_uppercase[0], transform=ax1.transAxes, \n",
    "            size=20, weight='bold')\n",
    "\n",
    "ax2 = plt.subplot(122)\n",
    "im2 = ax2.imshow(Lv)\n",
    "plt.xlabel('Neuron number',size=16)\n",
    "plt.ylabel('Neuron number',size=16)\n",
    "#ax2.set_xticks(np.arange(-.5, 61, 10))\n",
    "#ax2.set_yticks(np.arange(-.5, 61, 10))\n",
    "#ax2.set_xticklabels(np.arange(0, 61, 10))\n",
    "#ax2.set_yticklabels(np.arange(0, 61, 10))\n",
    "divider = make_axes_locatable(plt.gca())\n",
    "cax = divider.append_axes(\"right\", \"5%\", pad=\"3%\")\n",
    "cbar = fig.colorbar(im2,cax=cax)\n",
    "cbar.ax.get_yaxis().labelpad = 12\n",
    "cbar.ax.set_ylabel('L\\u1D5B', rotation=270,size=18)\n",
    "ax2.text(-0.1, 1.1, string.ascii_uppercase[1], transform=ax2.transAxes, \n",
    "            size=20, weight='bold')\n",
    "\n",
    "fig.subplots_adjust(wspace=.25)\n",
    "\n",
    "plt.savefig('sczrecsynapses.png', bbox_inches='tight')"
   ]
  },
  {
   "cell_type": "code",
   "execution_count": 13,
   "metadata": {},
   "outputs": [
    {
     "name": "stdout",
     "output_type": "stream",
     "text": [
      "[67.2 64.8 60.8 57.2 55.2]\n",
      "6.280055082200553 16.535467648218855\n"
     ]
    }
   ],
   "source": [
    "print(sczRTs)\n",
    "print(m,bias)"
   ]
  }
 ],
 "metadata": {
  "kernelspec": {
   "display_name": "Python 3",
   "language": "python",
   "name": "python3"
  },
  "language_info": {
   "codemirror_mode": {
    "name": "ipython",
    "version": 3
   },
   "file_extension": ".py",
   "mimetype": "text/x-python",
   "name": "python",
   "nbconvert_exporter": "python",
   "pygments_lexer": "ipython3",
   "version": "3.7.4"
  }
 },
 "nbformat": 4,
 "nbformat_minor": 4
}
