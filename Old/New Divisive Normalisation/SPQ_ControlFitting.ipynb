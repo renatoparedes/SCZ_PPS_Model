{
 "cells": [
  {
   "cell_type": "code",
   "execution_count": 1,
   "metadata": {},
   "outputs": [],
   "source": [
    "### Load PPS model\n",
    "%run ./PPS_SPQ_model.ipynb"
   ]
  },
  {
   "cell_type": "code",
   "execution_count": 2,
   "metadata": {},
   "outputs": [],
   "source": [
    "HCdata = pd.read_excel (r'C:\\\\Users\\\\renat\\Dissertation\\PPS_data_SCZ_SPQ.xlsx',sheet_name='HC') #for an earlier version of Excel, you may need to use the file extension of 'xls'\n",
    "SCZdata = pd.read_excel (r'C:\\\\Users\\\\renat\\Dissertation\\PPS_data_SCZ_SPQ.xlsx',sheet_name='SCZ') #for an earlier version of Excel, you may need to use the file extension of 'xls'\n",
    "SPQdata = pd.read_excel (r'C:\\\\Users\\\\renat\\Dissertation\\PPS_data_SCZ_SPQ.xlsx',sheet_name='high spq') #for an earlier version of Excel, you may need to use the file extension of 'xls'\n",
    "\n",
    "sets = [HCdata,SCZdata,SPQdata]\n",
    "RTdata = []\n",
    "\n",
    "for i in sets:\n",
    "    subjects = i['Subject'].unique()\n",
    "    delays = i[(i['Sound']=='Loom')&(i['Cond'] != 'Loom_NO')]['Cond'].unique()\n",
    "    delays = np.delete(delays,np.where(delays=='Loom_-700')[0])\n",
    "    idx = [3,4,0,1,2]\n",
    "    delays = delays[idx]\n",
    "    RTs = []\n",
    "\n",
    "    for s in subjects:\n",
    "        meanRTs = []\n",
    "        for t in delays:\n",
    "            RT = i[(i['Subject'] == s)&(i['Cond'] == t)]['Rtpul']           \n",
    "            meanRTs.append(np.mean(RT))\n",
    "        RTs.append(meanRTs)\n",
    "    RTdata.append(RTs)\n",
    "    \n",
    "HC_RT = np.asarray(RTdata[0])\n",
    "SCZ_RT = np.asarray(RTdata[1])\n",
    "SPQ_RT = np.asarray(RTdata[2])"
   ]
  },
  {
   "cell_type": "code",
   "execution_count": 3,
   "metadata": {},
   "outputs": [],
   "source": [
    "### Audio-tactile experiment simulation setup \n",
    "\n",
    "## Calculate distance in cms. Speaker is positioned at 100cm from the hand. \n",
    "times = np.asarray([300,800,1500,2200,2700])\n",
    "timesweep = np.arange(300,2800,100)\n",
    "ts = timesweep/1000\n",
    "v = 30 #cm/s \n",
    "a_distances = (120 - ts*v) # distance points in cm (network coordinates)\n",
    "\n",
    "## Simulation setup\n",
    "simtime = 200 #ms \n",
    "\n",
    "## Synapses setup\n",
    "Wt,Wa,Bt,Ba = Fw(6.5,6.5,2.5,2.5) \n",
    "Lt,La = Lw(0.15,0.05,1,4,0.15,0.05,20,80)\n",
    "bi = 0\n",
    "pr = 0"
   ]
  },
  {
   "cell_type": "code",
   "execution_count": 6,
   "metadata": {},
   "outputs": [
    {
     "name": "stdout",
     "output_type": "stream",
     "text": [
      "differential_evolution step 1: f(x)= 1151.63\n",
      "differential_evolution step 2: f(x)= 1151.63\n",
      "differential_evolution step 3: f(x)= 1151.63\n",
      "differential_evolution step 4: f(x)= 1151.63\n",
      "differential_evolution step 5: f(x)= 1151.63\n",
      "differential_evolution step 6: f(x)= 1151.63\n",
      "differential_evolution step 7: f(x)= 162.545\n",
      "differential_evolution step 8: f(x)= 162.545\n",
      "differential_evolution step 9: f(x)= 116.007\n",
      "differential_evolution step 10: f(x)= 116.007\n",
      "differential_evolution step 11: f(x)= 116.007\n",
      "differential_evolution step 12: f(x)= 116.007\n",
      "differential_evolution step 13: f(x)= 116.007\n",
      "differential_evolution step 14: f(x)= 116.007\n",
      "differential_evolution step 15: f(x)= 116.007\n",
      "differential_evolution step 16: f(x)= 116.007\n",
      "differential_evolution step 17: f(x)= 111.759\n",
      "differential_evolution step 18: f(x)= 111.158\n",
      "differential_evolution step 19: f(x)= 103.714\n",
      "differential_evolution step 20: f(x)= 103.714\n",
      "differential_evolution step 21: f(x)= 103.466\n",
      "differential_evolution step 22: f(x)= 103.466\n",
      "differential_evolution step 23: f(x)= 103.466\n",
      "differential_evolution step 24: f(x)= 103.466\n",
      "differential_evolution step 25: f(x)= 103.466\n",
      "differential_evolution step 26: f(x)= 102.646\n",
      "differential_evolution step 27: f(x)= 102.646\n",
      "differential_evolution step 28: f(x)= 102.646\n",
      "differential_evolution step 29: f(x)= 102.646\n",
      "differential_evolution step 30: f(x)= 102.646\n",
      "differential_evolution step 31: f(x)= 102.646\n",
      "differential_evolution step 32: f(x)= 102.646\n",
      "differential_evolution step 33: f(x)= 102.646\n",
      "differential_evolution step 34: f(x)= 102.646\n"
     ]
    }
   ],
   "source": [
    "idx = [0,5,12,19,24]\n",
    "distances = np.take(a_distances,idx)\n",
    "edata = np.mean(SPQ_RT,axis=0)\n",
    "spqRTs,ZMs,ZTs,ZAs = experimentrun(distances,simtime,0,0)\n",
    "\n",
    "def spqmodelrun(theta):\n",
    "    yf = edata\n",
    "    xf = spqRTs\n",
    "    \n",
    "    m = theta[0]\n",
    "    bias = theta[1]\n",
    "    \n",
    "    cost = np.sum(np.square(np.divide(yf-(m*xf+bias),yf)))\n",
    "    \n",
    "    return cost*100000\n",
    "\n",
    "bounds=[(0,100),(0,500)]\n",
    "res = differential_evolution(spqmodelrun, bounds, disp=True)"
   ]
  },
  {
   "cell_type": "code",
   "execution_count": 7,
   "metadata": {},
   "outputs": [
    {
     "name": "stdout",
     "output_type": "stream",
     "text": [
      "     fun: 102.63742970697707\n",
      "     jac: array([2.30215846e-04, 1.54967665e+00])\n",
      " message: 'Optimization terminated successfully.'\n",
      "    nfev: 1077\n",
      "     nit: 34\n",
      " success: True\n",
      "       x: array([3.44279598, 0.        ])\n"
     ]
    }
   ],
   "source": [
    "print(res)"
   ]
  },
  {
   "cell_type": "code",
   "execution_count": 8,
   "metadata": {},
   "outputs": [
    {
     "data": {
      "text/plain": [
       "<matplotlib.legend.Legend at 0x1ccc8751a88>"
      ]
     },
     "execution_count": 8,
     "metadata": {},
     "output_type": "execute_result"
    },
    {
     "data": {
      "image/png": "[encoded data removed]",
      "text/plain": [
       "<Figure size 432x288 with 1 Axes>"
      ]
     },
     "metadata": {
      "needs_background": "light"
     },
     "output_type": "display_data"
    }
   ],
   "source": [
    "xf = spqRTs\n",
    "yf = np.mean(SPQ_RT,axis=0)  \n",
    "\n",
    "m = 3.44279598\n",
    "bias = 0\n",
    "\n",
    "plt.figure(1)\n",
    "plt.scatter(distances,m*xf+bias,label = 'SPQ Model')\n",
    "plt.scatter(distances,yf,label = 'SPQ Data')\n",
    "plt.legend()"
   ]
  },
  {
   "cell_type": "code",
   "execution_count": 9,
   "metadata": {},
   "outputs": [],
   "source": [
    "spqres = np.asarray([m*xf+bias,yf])\n",
    "np.save('controlspqres.npy', spqres)"
   ]
  },
  {
   "cell_type": "code",
   "execution_count": 10,
   "metadata": {},
   "outputs": [
    {
     "name": "stdout",
     "output_type": "stream",
     "text": [
      "[98.8 94.  87.2 82.  80.4]\n",
      "3.44279598 0\n"
     ]
    }
   ],
   "source": [
    "print(spqRTs)\n",
    "print(m,bias)"
   ]
  }
 ],
 "metadata": {
  "kernelspec": {
   "display_name": "Python 3",
   "language": "python",
   "name": "python3"
  },
  "language_info": {
   "codemirror_mode": {
    "name": "ipython",
    "version": 3
   },
   "file_extension": ".py",
   "mimetype": "text/x-python",
   "name": "python",
   "nbconvert_exporter": "python",
   "pygments_lexer": "ipython3",
   "version": "3.7.4"
  }
 },
 "nbformat": 4,
 "nbformat_minor": 4
}
