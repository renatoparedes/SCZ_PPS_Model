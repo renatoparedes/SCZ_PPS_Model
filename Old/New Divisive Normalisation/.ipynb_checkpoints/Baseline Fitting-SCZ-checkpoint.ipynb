{
 "cells": [
  {
   "cell_type": "code",
   "execution_count": 14,
   "metadata": {},
   "outputs": [],
   "source": [
    "### Load PPS model\n",
    "%run ./PPS_model.ipynb"
   ]
  },
  {
   "cell_type": "code",
   "execution_count": 15,
   "metadata": {},
   "outputs": [],
   "source": [
    "### Load experimental data (Di Cosmo et al., 2017)\n",
    "\n",
    "HCdata = pd.read_excel (r'PPS_data_SCZ_SPQ.xlsx',sheet_name='HC') \n",
    "SCZdata = pd.read_excel (r'PPS_data_SCZ_SPQ.xlsx',sheet_name='SCZ') \n",
    "SPQdata = pd.read_excel (r'PPS_data_SCZ_SPQ.xlsx',sheet_name='high spq') \n",
    "LSPQdata = pd.read_excel (r'PPS_data_SCZ_SPQ.xlsx',sheet_name='low spq') \n",
    "\n",
    "sets = [HCdata,SCZdata,SPQdata,LSPQdata]\n",
    "RTdata = []\n",
    "\n",
    "for i in sets:\n",
    "    subjects = i['Subject'].unique()\n",
    "    delays = i[(i['Sound']=='Loom')&(i['Cond'] != 'Loom_NO')]['Cond'].unique()\n",
    "    delays = np.delete(delays,np.where(delays=='Loom_-700')[0])\n",
    "    idx = [3,4,0,1,2]\n",
    "    delays = delays[idx]\n",
    "    RTs = []\n",
    "    \n",
    "    for s in subjects:\n",
    "        meanRTs = []\n",
    "        for t in delays:\n",
    "            RT = i[(i['Subject'] == s)&(i['Cond'] == t)]['Rtpul']           \n",
    "            meanRTs.append(np.mean(RT))\n",
    "        RTs.append(meanRTs)\n",
    "    RTdata.append(RTs)\n",
    "    \n",
    "HC_RTs = np.asarray(RTdata[0])\n",
    "SCZ_RTs = np.asarray(RTdata[1])\n",
    "SPQ_RTs = np.asarray(RTdata[2])\n",
    "LSPQ_RTs = np.asarray(RTdata[3])"
   ]
  },
  {
   "cell_type": "code",
   "execution_count": 16,
   "metadata": {},
   "outputs": [],
   "source": [
    "def Fw (Wt_0,Wa_0,Bt_0,Ba_0,k1,k2,lim):\n",
    "    #k1 = 10\n",
    "    #k2 = 700\n",
    "    alpha = 0.9\n",
    "\n",
    "    # Tactile connections\n",
    "    Bt = np.ones((Mt,Nt))*Bt_0\n",
    "    Wt = np.ones((Mt,Nt))*Wt_0\n",
    "\n",
    "    # Visual connections\n",
    "    Ba = np.zeros((Ma,Na))\n",
    "    Wa = np.zeros((Ma,Na))\n",
    "\n",
    "    #lim = 20\n",
    "\n",
    "    for i in range(Ma):\n",
    "        for j in range(Na):\n",
    "            if (xa[i]<lim) & (ya[j]<20):\n",
    "                D = 0\n",
    "            else: \n",
    "                D = distance.euclidean((xa[i],ya[j]),(lim,ya[j]))              \n",
    "            Ba[i,j] = alpha*Ba_0*np.exp(- D/k1)+(1-alpha)*Ba_0*np.exp(- D/k2)\n",
    "            Wa[i,j] = alpha*Wa_0*np.exp(- D/k1)+(1-alpha)*Wa_0*np.exp(- D/k2)\n",
    "    return Wt,Wa,Bt,Ba\n",
    "\n",
    "## Feedback inputs\n",
    "\n",
    "# Tactile area\n",
    "def bt(z,Bt):\n",
    "    bt = np.multiply(Bt,z)\n",
    "    return bt\n",
    "\n",
    "# Auditory area\n",
    "def ba(z,Ba):\n",
    "    ba = np.multiply(Ba,z)\n",
    "    return ba\n"
   ]
  },
  {
   "cell_type": "code",
   "execution_count": 18,
   "metadata": {},
   "outputs": [],
   "source": [
    "## Experiment Function\n",
    "\n",
    "def boundaryexperimentrun(a_distances,time,b,pr,k1,k2,lim):\n",
    "    \n",
    "    Wt,Wa,Bt,Ba = Fw(6.5,6.5,2.5,2.5,k1,k2,lim)\n",
    "    dt = 0.4\n",
    "    timesteps = int(time/dt)\n",
    "    ndist = len(a_distances)\n",
    "    \n",
    "    RTs = np.zeros(ndist)\n",
    "    ZTs = np.zeros((Mt,Nt,ndist))\n",
    "    ZAs = np.zeros((Ma,Na,ndist))\n",
    "    \n",
    "    ti = PHIt(0) \n",
    "    PrBa = prun(Ba,pr)\n",
    "    PrWa = prun(Wa,pr*2.6)\n",
    "    dtau = dt/tau\n",
    "    \n",
    "    qt = np.zeros((Mt,Nt,timesteps+1,ndist))\n",
    "    ut = np.zeros((Mt,Nt,timesteps+1,ndist))\n",
    "    zt = np.zeros((Mt,Nt,timesteps+1,ndist))\n",
    "    pt = np.zeros((Mt,Nt,timesteps+1,ndist))\n",
    "\n",
    "    qa = np.zeros((Ma,Na,timesteps+1,ndist))\n",
    "    ua = np.zeros((Ma,Na,timesteps+1,ndist))\n",
    "    za = np.zeros((Ma,Na,timesteps+1,ndist))\n",
    "    pa = np.zeros((Ma,Na,timesteps+1,ndist))\n",
    "\n",
    "    qm = np.zeros((timesteps+1,ndist))\n",
    "    um = np.zeros((timesteps+1,ndist))\n",
    "    zm = np.zeros((timesteps+1,ndist))\n",
    "    pm = np.zeros((timesteps+1,ndist))\n",
    "    \n",
    "    ZT = np.zeros((1,timesteps+1,ndist))\n",
    "    \n",
    "    for d in range(ndist):\n",
    "        xa_0 = a_distances[d] # How far the sound is presented.     \n",
    "        ai = PHIa(0,xa_0) # Generates an auditory input\n",
    "\n",
    "        for i in range(timesteps):    \n",
    "            # Tactile activity\n",
    "            ut[:,:,i+1,d] = ti+LIt(zt[:,:,i,d])+bt(zm[i,d],Bt)\n",
    "            qt[:,:,i+1,d] = qt[:,:,i,d] + dtau*(-qt[:,:,i,d]+ut[:,:,i,d])\n",
    "            pt[:,:,i+1,d] = psit(qt[:,:,i,d],b)\n",
    "            zt[:,:,i+1,d] = pt[:,:,i,d]*np.heaviside(pt[:,:,i,d],0)\n",
    "\n",
    "            ZT[0,i+1,d] = np.sum(zt[:,:,i,d])\n",
    "\n",
    "            # Auditory activity\n",
    "            ua[:,:,i+1,d] = ai+LIa(za[:,:,i,d])+ba(zm[i,d],PrBa) \n",
    "            qa[:,:,i+1,d] = qa[:,:,i,d] + dtau*(-qa[:,:,i,d]+ua[:,:,i,d])\n",
    "            pa[:,:,i+1,d] = psia(qa[:,:,i,d],b)\n",
    "            za[:,:,i+1,d] = pa[:,:,i,d]*np.heaviside(pa[:,:,i,d],0)\n",
    "\n",
    "            # Multisensory activity\n",
    "            um[i+1,d] = np.sum(np.multiply(Wt,zt[:,:,i,d])) + np.sum(np.multiply(PrWa,za[:,:,i,d]))\n",
    "            qm[i+1,d] = qm[i,d] + dtau*(-qm[i,d]+um[i,d])\n",
    "            pm[i+1,d] = psim(qm[i,d])\n",
    "            zm[i+1,d] = pm[i,d]*np.heaviside(pm[i,d],0)    \n",
    "        RT = np.argmax(zt[19,9,:,d]>0.9)*dt\n",
    "    \n",
    "        RTs[d] = RT\n",
    "        ZMs = zm        \n",
    "        ZTs[:,:,d] = zt[:,:,timesteps,d]\n",
    "        ZAs[:,:,d] = za[:,:,timesteps,d]   \n",
    "    return RTs,ZMs,ZTs,ZAs"
   ]
  },
  {
   "cell_type": "code",
   "execution_count": 19,
   "metadata": {},
   "outputs": [],
   "source": [
    "### Audio-tactile experiment simulation setup \n",
    "\n",
    "## Calculate distance in cms. Speaker is positioned at 100cm from the hand. \n",
    "times = np.asarray([300,800,1500,2200,2700])\n",
    "timesweep = np.arange(300,2800,100)\n",
    "ts = timesweep/1000\n",
    "v = 30 #cm/s \n",
    "a_distances = (120 - ts*v) # distance points in cm (network coordinates)\n",
    "\n",
    "## Simulation setup\n",
    "simtime = 200 #ms \n",
    "\n",
    "## Synapses setup\n",
    "Lt,La = Lw(0.15,0.05,1,4,0.15,0.05,1,4)\n",
    "#Wt,Wa,Bt,Ba = Fw(6.5,6.5,2.5,2.5,10,700,60) \n",
    "bi = 0\n",
    "pr = 0"
   ]
  },
  {
   "cell_type": "code",
   "execution_count": 20,
   "metadata": {},
   "outputs": [
    {
     "name": "stdout",
     "output_type": "stream",
     "text": [
      "differential_evolution step 1: f(x)= 13.9373\n",
      "differential_evolution step 2: f(x)= 13.9373\n",
      "differential_evolution step 3: f(x)= 11.7245\n",
      "differential_evolution step 4: f(x)= 11.7245\n",
      "differential_evolution step 5: f(x)= 11.7245\n",
      "differential_evolution step 6: f(x)= 11.7245\n",
      "differential_evolution step 7: f(x)= 11.7245\n",
      "differential_evolution step 8: f(x)= 11.7245\n",
      "differential_evolution step 9: f(x)= 11.7245\n",
      "differential_evolution step 10: f(x)= 11.7245\n",
      "differential_evolution step 11: f(x)= 11.7245\n",
      "differential_evolution step 12: f(x)= 11.7245\n",
      "differential_evolution step 13: f(x)= 11.7245\n",
      "differential_evolution step 14: f(x)= 11.7245\n",
      "differential_evolution step 15: f(x)= 11.7245\n",
      "differential_evolution step 16: f(x)= 11.7245\n",
      "differential_evolution step 17: f(x)= 11.7245\n",
      "differential_evolution step 18: f(x)= 11.7245\n",
      "differential_evolution step 19: f(x)= 11.7245\n",
      "differential_evolution step 20: f(x)= 11.7245\n",
      "differential_evolution step 21: f(x)= 11.7245\n",
      "differential_evolution step 22: f(x)= 11.7245\n",
      "differential_evolution step 23: f(x)= 11.7245\n",
      "differential_evolution step 24: f(x)= 11.7245\n",
      "differential_evolution step 25: f(x)= 11.7245\n",
      "differential_evolution step 26: f(x)= 11.7245\n",
      "differential_evolution step 27: f(x)= 11.7245\n",
      "differential_evolution step 28: f(x)= 11.7245\n",
      "differential_evolution step 29: f(x)= 11.7245\n",
      "differential_evolution step 30: f(x)= 11.7245\n",
      "differential_evolution step 31: f(x)= 11.7245\n",
      "differential_evolution step 32: f(x)= 11.7245\n",
      "differential_evolution step 33: f(x)= 11.7245\n",
      "differential_evolution step 34: f(x)= 11.7245\n",
      "differential_evolution step 35: f(x)= 11.7245\n",
      "differential_evolution step 36: f(x)= 11.7245\n",
      "differential_evolution step 37: f(x)= 11.7245\n",
      "differential_evolution step 38: f(x)= 11.7245\n"
     ]
    }
   ],
   "source": [
    "idx = [0,5,12,19,24]\n",
    "distances = np.take(a_distances,idx)\n",
    "edata = np.mean(HC_RTs,axis=0)\n",
    "\n",
    "def boundaryhcmodelrun(theta):\n",
    "    hcRTs,ZMs,ZTs,ZAs = boundaryexperimentrun(distances,simtime,bi,pr,theta[0],theta[1],theta[2])\n",
    "    xf = hcRTs\n",
    "    yf = edata\n",
    "    \n",
    "    m = (xf.size * np.sum(xf*yf) - np.sum(xf) * np.sum(yf)) / (xf.size*np.sum(xf*xf) - np.sum(xf) ** 2)\n",
    "    bias = (np.sum(yf) - m*np.sum(xf)) / xf.size\n",
    "    \n",
    "    cost = np.sum(np.square(np.divide(yf-(m*xf+bias),yf)))\n",
    "    \n",
    "    return cost*100000\n",
    "\n",
    "bounds=[(1,100),(500,1000),(20,80)]\n",
    "boundaryhcres = differential_evolution(boundaryhcmodelrun,bounds,disp=True)"
   ]
  },
  {
   "cell_type": "code",
   "execution_count": 21,
   "metadata": {},
   "outputs": [
    {
     "name": "stdout",
     "output_type": "stream",
     "text": [
      "     fun: 11.724480785196036\n",
      " message: 'Optimization terminated successfully.'\n",
      "    nfev: 1759\n",
      "     nit: 38\n",
      " success: True\n",
      "       x: array([ 92.81340534, 603.85053287,  25.62306456])\n"
     ]
    }
   ],
   "source": [
    "print(boundaryhcres)"
   ]
  },
  {
   "cell_type": "code",
   "execution_count": null,
   "metadata": {},
   "outputs": [],
   "source": [
    "idx = [0,5,12,19,24]\n",
    "distances = np.take(a_distances,idx)\n",
    "hcRTs,ZMs,ZTs,ZAs = boundaryexperimentrun(distances,simtime,0,0,92.81340534,603.85053287,25.62306456)"
   ]
  },
  {
   "cell_type": "code",
   "execution_count": null,
   "metadata": {},
   "outputs": [],
   "source": [
    "xf = hcRTs\n",
    "yf = np.mean(HC_RTs,axis=0)    \n",
    "m = (xf.size * np.sum(xf*yf) - np.sum(xf) * np.sum(yf)) / (xf.size*np.sum(xf*xf) - np.sum(xf) ** 2)\n",
    "bias = (np.sum(yf) - m*np.sum(xf)) / xf.size\n",
    "\n",
    "plt.figure(1)\n",
    "plt.scatter(distances,m*hcRTs+bias,label = 'HC Model')\n",
    "plt.scatter(distances,yf,label = 'HC Data')\n",
    "plt.legend()"
   ]
  },
  {
   "cell_type": "code",
   "execution_count": 10,
   "metadata": {},
   "outputs": [],
   "source": [
    "sczbaseline = np.asarray([m*xf+bias,yf])\n",
    "np.save('sczbaseline.npy', sczbaseline)"
   ]
  },
  {
   "cell_type": "code",
   "execution_count": 12,
   "metadata": {},
   "outputs": [
    {
     "name": "stdout",
     "output_type": "stream",
     "text": [
      "[84.  83.2 81.6 80.8 80.4]\n",
      "18.479052860746695 -1187.313639087362\n"
     ]
    }
   ],
   "source": [
    "print(hcRTs)\n",
    "print(m,bias)"
   ]
  },
  {
   "cell_type": "code",
   "execution_count": 13,
   "metadata": {},
   "outputs": [
    {
     "ename": "NameError",
     "evalue": "name 'Wa' is not defined",
     "output_type": "error",
     "traceback": [
      "\u001b[1;31m---------------------------------------------------------------------------\u001b[0m",
      "\u001b[1;31mNameError\u001b[0m                                 Traceback (most recent call last)",
      "\u001b[1;32m<ipython-input-13-beecfbe0e3c8>\u001b[0m in \u001b[0;36m<module>\u001b[1;34m\u001b[0m\n\u001b[1;32m----> 1\u001b[1;33m \u001b[0mprint\u001b[0m\u001b[1;33m(\u001b[0m\u001b[0mWa\u001b[0m\u001b[1;33m)\u001b[0m\u001b[1;33m\u001b[0m\u001b[1;33m\u001b[0m\u001b[0m\n\u001b[0m",
      "\u001b[1;31mNameError\u001b[0m: name 'Wa' is not defined"
     ]
    }
   ],
   "source": [
    "print(Wa)"
   ]
  }
 ],
 "metadata": {
  "kernelspec": {
   "display_name": "Python 3",
   "language": "python",
   "name": "python3"
  },
  "language_info": {
   "codemirror_mode": {
    "name": "ipython",
    "version": 3
   },
   "file_extension": ".py",
   "mimetype": "text/x-python",
   "name": "python",
   "nbconvert_exporter": "python",
   "pygments_lexer": "ipython3",
   "version": "3.7.4"
  }
 },
 "nbformat": 4,
 "nbformat_minor": 4
}
