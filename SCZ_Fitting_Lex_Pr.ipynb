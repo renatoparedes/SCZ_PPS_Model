{
 "cells": [
  {
   "cell_type": "code",
   "execution_count": 1,
   "metadata": {},
   "outputs": [],
   "source": [
    "### Load PPS model\n",
    "%run ./HC_model.ipynb"
   ]
  },
  {
   "cell_type": "code",
   "execution_count": 2,
   "metadata": {},
   "outputs": [
    {
     "data": {
      "text/plain": [
       "<matplotlib.collections.PathCollection at 0x174f2866fc8>"
      ]
     },
     "execution_count": 2,
     "metadata": {},
     "output_type": "execute_result"
    },
    {
     "data": {
      "image/png": "[encoded data removed]",
      "text/plain": [
       "<Figure size 432x288 with 1 Axes>"
      ]
     },
     "metadata": {
      "needs_background": "light"
     },
     "output_type": "display_data"
    }
   ],
   "source": [
    "### Audio-tactile experiment simulation setup \n",
    "\n",
    "## Calculate distance in cms. Speaker is positioned at 100cm from the hand. \n",
    "s_distances = np.asarray([2700,2200,1500,800,300])/1000\n",
    "ts = np.linspace(s_distances[0],s_distances[-1],7)\n",
    "v = 30 #cm/s \n",
    "a_distances = (120 - ts*v) # distance points in cm (network coordinates)\n",
    "\n",
    "## Simulation setup\n",
    "simtime = 100 #ms \n",
    "\n",
    "## Synapses setup\n",
    "b = 2.5\n",
    "pr = 0\n",
    "\n",
    "# Experimental Data\n",
    "ymin = 345.10584283635757\n",
    "ymax = 449.60233625307154\n",
    "cp = 120-1.654*v\n",
    "slope = 1/0.23\n",
    "SCZ_RTs = RTsig(a_distances,cp,slope)\n",
    "plt.scatter(a_distances,SCZ_RTs)"
   ]
  },
  {
   "cell_type": "code",
   "execution_count": 4,
   "metadata": {},
   "outputs": [
    {
     "name": "stdout",
     "output_type": "stream",
     "text": [
      "differential_evolution step 1: f(x)= 30.9573\n",
      "differential_evolution step 2: f(x)= 19.8147\n",
      "differential_evolution step 3: f(x)= 18.489\n",
      "differential_evolution step 4: f(x)= 18.489\n",
      "differential_evolution step 5: f(x)= 18.489\n",
      "differential_evolution step 6: f(x)= 17.3469\n",
      "differential_evolution step 7: f(x)= 17.3469\n",
      "differential_evolution step 8: f(x)= 17.3469\n",
      "differential_evolution step 9: f(x)= 17.3469\n",
      "differential_evolution step 10: f(x)= 17.2253\n",
      "differential_evolution step 11: f(x)= 14.6209\n",
      "differential_evolution step 12: f(x)= 14.6209\n",
      "differential_evolution step 13: f(x)= 14.6209\n",
      "differential_evolution step 14: f(x)= 14.6209\n",
      "differential_evolution step 15: f(x)= 13.1649\n",
      "differential_evolution step 16: f(x)= 13.1649\n",
      "differential_evolution step 17: f(x)= 13.1649\n",
      "differential_evolution step 18: f(x)= 13.1649\n",
      "differential_evolution step 19: f(x)= 13.1649\n",
      "differential_evolution step 20: f(x)= 13.1649\n",
      "differential_evolution step 21: f(x)= 13.1649\n",
      "differential_evolution step 22: f(x)= 13.1649\n",
      "differential_evolution step 23: f(x)= 13.1649\n",
      "differential_evolution step 24: f(x)= 13.1649\n",
      "differential_evolution step 25: f(x)= 13.1649\n",
      "differential_evolution step 26: f(x)= 13.1649\n",
      "differential_evolution step 27: f(x)= 13.1649\n",
      "differential_evolution step 28: f(x)= 13.1649\n",
      "differential_evolution step 29: f(x)= 13.1649\n"
     ]
    }
   ],
   "source": [
    "def sczmodelrun(theta):\n",
    "    sczRTs,ZMs,ZTs,ZAs = experimentrun(a_distances,simtime,b,theta[0],theta[1],0.05,1,4)\n",
    "    xf = sczRTs\n",
    "    yf = SCZ_RTs\n",
    "    \n",
    "    m = (xf.size * np.sum(xf*yf) - np.sum(xf) * np.sum(yf)) / (xf.size*np.sum(xf*xf) - np.sum(xf) ** 2)\n",
    "    bias = (np.sum(yf) - m*np.sum(xf)) / xf.size\n",
    "    \n",
    "    if bias<0: bias=0\n",
    "    if m<0: m=0\n",
    "    \n",
    "    cost = np.sum(np.square(np.divide(yf-(m*xf+bias),yf)))\n",
    "    \n",
    "    return cost*100000\n",
    "\n",
    "bounds=[(0,6.5),(0,3)]\n",
    "res = differential_evolution(sczmodelrun,bounds,disp=True)"
   ]
  },
  {
   "cell_type": "code",
   "execution_count": 5,
   "metadata": {},
   "outputs": [
    {
     "name": "stdout",
     "output_type": "stream",
     "text": [
      "     fun: 13.164921464718809\n",
      " message: 'Optimization terminated successfully.'\n",
      "    nfev: 903\n",
      "     nit: 29\n",
      " success: True\n",
      "       x: array([1.99620687, 0.99454028])\n"
     ]
    }
   ],
   "source": [
    "print(res)"
   ]
  },
  {
   "cell_type": "code",
   "execution_count": 4,
   "metadata": {},
   "outputs": [],
   "source": [
    "sczRTs,ZMs,ZTs,ZAs = experimentrun(a_distances,simtime,b,1.99620687,0.99454028,0.05,1,4)"
   ]
  },
  {
   "cell_type": "code",
   "execution_count": 5,
   "metadata": {},
   "outputs": [
    {
     "name": "stdout",
     "output_type": "stream",
     "text": [
      "5.606509910804965 43.358164998027405\n"
     ]
    },
    {
     "data": {
      "image/png": "[encoded data removed]",
      "text/plain": [
       "<Figure size 432x288 with 1 Axes>"
      ]
     },
     "metadata": {
      "needs_background": "light"
     },
     "output_type": "display_data"
    }
   ],
   "source": [
    "xf = sczRTs\n",
    "yf = SCZ_RTs    \n",
    "m = (xf.size * np.sum(xf*yf) - np.sum(xf) * np.sum(yf)) / (xf.size*np.sum(xf*xf) - np.sum(xf) ** 2)\n",
    "bias = (np.sum(yf) - m*np.sum(xf)) / xf.size\n",
    "\n",
    "ymin,ymax = np.min(m*xf+bias),np.max(m*xf+bias) \n",
    "dc,h = sigfit(a_distances,m*xf+bias)\n",
    "a_distances_exp = np.linspace(a_distances[0],a_distances[-1],30)\n",
    "yf_exp = RTsig(a_distances_exp,dc,h)\n",
    "\n",
    "plt.figure(1)\n",
    "plt.plot(a_distances_exp,yf_exp,'r',label = 'SCZ Model')\n",
    "plt.scatter(a_distances,yf,label = 'SCZ Data', color='r')\n",
    "plt.legend()\n",
    "print(m,bias)"
   ]
  },
  {
   "cell_type": "code",
   "execution_count": 13,
   "metadata": {},
   "outputs": [],
   "source": [
    "sczres = np.asarray([yf_exp,yf])\n",
    "np.save('scz_lex_pr.npy', sczres)"
   ]
  },
  {
   "cell_type": "code",
   "execution_count": 10,
   "metadata": {},
   "outputs": [
    {
     "name": "stdout",
     "output_type": "stream",
     "text": [
      "1.6995880045201182\n"
     ]
    }
   ],
   "source": [
    "from sklearn import metrics\n",
    "print(metrics.mean_squared_error(yf,m*xf+bias,squared=False))"
   ]
  },
  {
   "cell_type": "code",
   "execution_count": 12,
   "metadata": {},
   "outputs": [
    {
     "name": "stdout",
     "output_type": "stream",
     "text": [
      "2.5961635603174633\n"
     ]
    }
   ],
   "source": [
    "def adjrmse(model,data,k):\n",
    "    sse = np.sum(np.square(data-model))\n",
    "    n = len(model)\n",
    "    return np.sqrt(sse/(n-k))\n",
    "\n",
    "scz_error = adjrmse(m*xf+bias,sczres[1],4)\n",
    "print(scz_error)"
   ]
  },
  {
   "cell_type": "code",
   "execution_count": 6,
   "metadata": {},
   "outputs": [
    {
     "data": {
      "text/plain": [
       "9.744200803085434"
      ]
     },
     "execution_count": 6,
     "metadata": {},
     "output_type": "execute_result"
    }
   ],
   "source": [
    "Wt,Wa,Bt,Ba = Fw(6.5,6.5,b,b)\n",
    "myWa = prun(Wa,1.99620687)\n",
    "100*(1-np.sum(myWa)/np.sum(Wa))"
   ]
  }
 ],
 "metadata": {
  "kernelspec": {
   "display_name": "Python 3",
   "language": "python",
   "name": "python3"
  },
  "language_info": {
   "codemirror_mode": {
    "name": "ipython",
    "version": 3
   },
   "file_extension": ".py",
   "mimetype": "text/x-python",
   "name": "python",
   "nbconvert_exporter": "python",
   "pygments_lexer": "ipython3",
   "version": "3.7.4"
  },
  "widgets": {
   "application/vnd.jupyter.widget-state+json": {
    "state": {},
    "version_major": 2,
    "version_minor": 0
   }
  }
 },
 "nbformat": 4,
 "nbformat_minor": 4
}
