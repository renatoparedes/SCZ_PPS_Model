{
 "cells": [
  {
   "cell_type": "code",
   "execution_count": 1,
   "metadata": {},
   "outputs": [],
   "source": [
    "### Load PPS model\n",
    "%run ./PPS_model.ipynb"
   ]
  },
  {
   "cell_type": "code",
   "execution_count": 2,
   "metadata": {},
   "outputs": [
    {
     "data": {
      "text/plain": [
       "<matplotlib.collections.PathCollection at 0x21a294510c8>"
      ]
     },
     "execution_count": 2,
     "metadata": {},
     "output_type": "execute_result"
    },
    {
     "data": {
      "image/png": "[encoded data removed]",
      "text/plain": [
       "<Figure size 432x288 with 1 Axes>"
      ]
     },
     "metadata": {
      "needs_background": "light"
     },
     "output_type": "display_data"
    }
   ],
   "source": [
    "### Audio-tactile experiment simulation setup\n",
    "\n",
    "## Calculate distance in cms. Speaker is positioned at 100cm from the hand.\n",
    "s_distances = np.asarray([2700, 2200, 1500, 800, 300]) / 1000\n",
    "ts = np.linspace(s_distances[0], s_distances[-1], 7)\n",
    "v = 30  # cm/s\n",
    "a_distances = 120 - ts * v  # distance points in cm (network coordinates)\n",
    "\n",
    "## Simulation setup\n",
    "simtime = 100  # ms\n",
    "\n",
    "# Experimental Data\n",
    "ymin = 292.67682496787893\n",
    "ymax = 368.14828117144293\n",
    "cp = 120 - 1.329 * v\n",
    "slope = 1 / 0.09\n",
    "HC_RTs = RTsig(a_distances, cp, slope)\n",
    "plt.scatter(a_distances, HC_RTs)"
   ]
  },
  {
   "cell_type": "code",
   "execution_count": 85,
   "metadata": {},
   "outputs": [
    {
     "name": "stdout",
     "output_type": "stream",
     "text": [
      "differential_evolution step 1: f(x)= 12.7544\n",
      "differential_evolution step 2: f(x)= 12.7544\n",
      "differential_evolution step 3: f(x)= 6.68185\n",
      "differential_evolution step 4: f(x)= 4.40456\n",
      "differential_evolution step 5: f(x)= 4.1573\n",
      "differential_evolution step 6: f(x)= 1.37207\n",
      "differential_evolution step 7: f(x)= 1.37207\n",
      "differential_evolution step 8: f(x)= 1.37207\n",
      "differential_evolution step 9: f(x)= 1.37207\n",
      "differential_evolution step 10: f(x)= 1.37207\n",
      "differential_evolution step 11: f(x)= 1.37207\n",
      "differential_evolution step 12: f(x)= 1.37207\n",
      "differential_evolution step 13: f(x)= 1.37207\n",
      "differential_evolution step 14: f(x)= 1.37207\n",
      "differential_evolution step 15: f(x)= 1.37207\n",
      "differential_evolution step 16: f(x)= 1.37207\n",
      "differential_evolution step 17: f(x)= 1.37207\n",
      "differential_evolution step 18: f(x)= 1.37207\n",
      "differential_evolution step 19: f(x)= 1.37207\n",
      "differential_evolution step 20: f(x)= 1.37207\n",
      "differential_evolution step 21: f(x)= 1.37207\n",
      "differential_evolution step 22: f(x)= 1.03139\n",
      "differential_evolution step 23: f(x)= 1.03139\n",
      "differential_evolution step 24: f(x)= 1.03139\n",
      "differential_evolution step 25: f(x)= 1.03139\n",
      "differential_evolution step 26: f(x)= 1.03139\n",
      "differential_evolution step 27: f(x)= 1.03139\n",
      "differential_evolution step 28: f(x)= 1.03139\n",
      "differential_evolution step 29: f(x)= 1.03139\n",
      "differential_evolution step 30: f(x)= 1.03139\n",
      "differential_evolution step 31: f(x)= 1.02873\n",
      "differential_evolution step 32: f(x)= 1.02873\n",
      "differential_evolution step 33: f(x)= 1.02873\n",
      "differential_evolution step 34: f(x)= 1.02873\n",
      "differential_evolution step 35: f(x)= 1.02873\n",
      "differential_evolution step 36: f(x)= 1.02873\n",
      "differential_evolution step 37: f(x)= 1.02873\n",
      "differential_evolution step 38: f(x)= 1.02873\n",
      "differential_evolution step 39: f(x)= 1.02873\n",
      "differential_evolution step 40: f(x)= 1.02873\n",
      "differential_evolution step 41: f(x)= 1.02873\n",
      "differential_evolution step 42: f(x)= 1.02873\n",
      "differential_evolution step 43: f(x)= 1.02873\n",
      "differential_evolution step 44: f(x)= 1.02873\n",
      "differential_evolution step 45: f(x)= 1.02873\n",
      "differential_evolution step 46: f(x)= 1.02873\n",
      "differential_evolution step 47: f(x)= 1.02873\n",
      "differential_evolution step 48: f(x)= 1.02873\n",
      "differential_evolution step 49: f(x)= 1.02873\n",
      "differential_evolution step 50: f(x)= 1.02873\n",
      "differential_evolution step 51: f(x)= 1.02873\n",
      "differential_evolution step 52: f(x)= 1.02873\n",
      "differential_evolution step 53: f(x)= 1.02873\n",
      "differential_evolution step 54: f(x)= 1.02873\n",
      "differential_evolution step 55: f(x)= 1.02873\n",
      "differential_evolution step 56: f(x)= 1.02873\n",
      "differential_evolution step 57: f(x)= 1.02873\n",
      "differential_evolution step 58: f(x)= 1.02873\n",
      "differential_evolution step 59: f(x)= 1.02873\n",
      "differential_evolution step 60: f(x)= 1.02873\n",
      "differential_evolution step 61: f(x)= 1.02873\n",
      "differential_evolution step 62: f(x)= 1.02873\n",
      "differential_evolution step 63: f(x)= 1.02873\n",
      "differential_evolution step 64: f(x)= 1.02873\n",
      "differential_evolution step 65: f(x)= 1.02873\n",
      "differential_evolution step 66: f(x)= 1.02873\n",
      "differential_evolution step 67: f(x)= 1.02873\n",
      "differential_evolution step 68: f(x)= 1.02873\n",
      "differential_evolution step 69: f(x)= 1.02873\n",
      "differential_evolution step 70: f(x)= 1.02873\n",
      "differential_evolution step 71: f(x)= 1.02873\n",
      "differential_evolution step 72: f(x)= 1.02873\n",
      "differential_evolution step 73: f(x)= 1.02873\n",
      "differential_evolution step 74: f(x)= 1.02873\n",
      "differential_evolution step 75: f(x)= 1.02873\n",
      "differential_evolution step 76: f(x)= 1.02873\n",
      "differential_evolution step 77: f(x)= 1.02873\n",
      "differential_evolution step 78: f(x)= 1.02873\n",
      "differential_evolution step 79: f(x)= 1.02873\n",
      "differential_evolution step 80: f(x)= 1.02873\n",
      "differential_evolution step 81: f(x)= 1.02873\n",
      "differential_evolution step 82: f(x)= 1.02873\n",
      "differential_evolution step 83: f(x)= 1.02873\n",
      "differential_evolution step 84: f(x)= 1.02873\n",
      "differential_evolution step 85: f(x)= 1.02873\n",
      "differential_evolution step 86: f(x)= 1.02873\n",
      "differential_evolution step 87: f(x)= 1.02873\n",
      "differential_evolution step 88: f(x)= 1.02873\n",
      "differential_evolution step 89: f(x)= 1.02873\n",
      "differential_evolution step 90: f(x)= 1.02873\n",
      "differential_evolution step 91: f(x)= 1.02873\n",
      "differential_evolution step 92: f(x)= 1.02873\n",
      "differential_evolution step 93: f(x)= 1.02873\n",
      "differential_evolution step 94: f(x)= 1.02873\n",
      "differential_evolution step 95: f(x)= 1.02873\n",
      "differential_evolution step 96: f(x)= 1.02873\n"
     ]
    }
   ],
   "source": [
    "def boundaryhcmodelrun(theta):\n",
    "    hcRTs, ZMs, ZTs, ZAs = experimentrun(\n",
    "        a_distances, simtime, theta[0], theta[1], theta[2], theta[3]\n",
    "    )\n",
    "    xf = hcRTs\n",
    "    yf = HC_RTs\n",
    "\n",
    "    m = (xf.size * np.sum(xf * yf) - np.sum(xf) * np.sum(yf)) / (\n",
    "        xf.size * np.sum(xf * xf) - np.sum(xf) ** 2\n",
    "    )\n",
    "    bias = (np.sum(yf) - m * np.sum(xf)) / xf.size\n",
    "\n",
    "    if bias < 0:\n",
    "        bias = 0\n",
    "    if m < 0:\n",
    "        m = 0\n",
    "\n",
    "    cost = np.sum(np.square(np.divide(yf - (m * xf + bias), yf)))\n",
    "\n",
    "    return cost * 100000\n",
    "\n",
    "\n",
    "bounds = [(1, 50), (500, 1000), (20, 80), (0.25, 1)]\n",
    "boundaryhcres = differential_evolution(boundaryhcmodelrun, bounds, disp=True)"
   ]
  },
  {
   "cell_type": "code",
   "execution_count": 86,
   "metadata": {},
   "outputs": [
    {
     "name": "stdout",
     "output_type": "stream",
     "text": [
      "     fun: 1.0287310554579443\n",
      " message: 'Optimization terminated successfully.'\n",
      "    nfev: 5825\n",
      "     nit: 96\n",
      " success: True\n",
      "       x: array([1.67047305e+01, 9.82951020e+02, 4.86791243e+01, 9.82802685e-01])\n"
     ]
    }
   ],
   "source": [
    "print(boundaryhcres)"
   ]
  },
  {
   "cell_type": "code",
   "execution_count": 3,
   "metadata": {},
   "outputs": [],
   "source": [
    "hcRTs, ZMs, ZTs, ZAs = experimentrun(\n",
    "    a_distances, simtime, 1.67047305e01, 9.82951020e02, 4.86791243e01, 9.82802685e-01\n",
    ")"
   ]
  },
  {
   "cell_type": "code",
   "execution_count": 4,
   "metadata": {},
   "outputs": [
    {
     "name": "stdout",
     "output_type": "stream",
     "text": [
      "2.731234267507431 137.62949745342593\n"
     ]
    },
    {
     "data": {
      "image/png": "[encoded data removed]",
      "text/plain": [
       "<Figure size 432x288 with 1 Axes>"
      ]
     },
     "metadata": {
      "needs_background": "light"
     },
     "output_type": "display_data"
    }
   ],
   "source": [
    "xf = hcRTs\n",
    "yf = HC_RTs\n",
    "m = (xf.size * np.sum(xf * yf) - np.sum(xf) * np.sum(yf)) / (\n",
    "    xf.size * np.sum(xf * xf) - np.sum(xf) ** 2\n",
    ")\n",
    "bias = (np.sum(yf) - m * np.sum(xf)) / xf.size\n",
    "\n",
    "ymin, ymax = np.min(m * xf + bias), np.max(m * xf + bias)\n",
    "dc, h = sigfit(a_distances, m * xf + bias)\n",
    "a_distances_exp = np.linspace(a_distances[0], a_distances[-1], 30)\n",
    "yf_exp = RTsig(a_distances_exp, dc, h)\n",
    "\n",
    "plt.figure(1)\n",
    "plt.plot(a_distances_exp, yf_exp, label=\"HC Model\", color=\"k\")\n",
    "plt.scatter(a_distances, yf, label=\"HC Data\", color=\"k\")\n",
    "plt.ylabel(\"RT (ms)\", size=14)\n",
    "plt.xlabel(\"Distance (cm)\", size=14)\n",
    "plt.legend(prop={\"size\": 12})\n",
    "plt.savefig(\"Results/hc_fitting.png\", bbox_inches=\"tight\")\n",
    "print(m, bias)"
   ]
  },
  {
   "cell_type": "code",
   "execution_count": 5,
   "metadata": {},
   "outputs": [],
   "source": [
    "sczbaseline = np.asarray([yf_exp, yf])\n",
    "np.save(\"hc.npy\", sczbaseline)"
   ]
  },
  {
   "cell_type": "code",
   "execution_count": 6,
   "metadata": {},
   "outputs": [
    {
     "name": "stdout",
     "output_type": "stream",
     "text": [
      "0.37398505631152473\n"
     ]
    }
   ],
   "source": [
    "from sklearn import metrics\n",
    "\n",
    "print(metrics.mean_squared_error(yf, m * xf + bias, squared=False))"
   ]
  },
  {
   "cell_type": "code",
   "execution_count": 7,
   "metadata": {},
   "outputs": [
    {
     "name": "stdout",
     "output_type": "stream",
     "text": [
      "0.5712716097766282\n"
     ]
    }
   ],
   "source": [
    "def adjrmse(model, data, k):\n",
    "    sse = np.sum(np.square(data - model))\n",
    "    n = len(model)\n",
    "    return np.sqrt(sse / (n - k))\n",
    "\n",
    "\n",
    "hc_error = adjrmse(m * xf + bias, sczbaseline[1], 4)\n",
    "print(hc_error)"
   ]
  }
 ],
 "metadata": {
  "kernelspec": {
   "display_name": "pps",
   "language": "python",
   "name": "python3"
  },
  "language_info": {
   "codemirror_mode": {
    "name": "ipython",
    "version": 3
   },
   "file_extension": ".py",
   "mimetype": "text/x-python",
   "name": "python",
   "nbconvert_exporter": "python",
   "pygments_lexer": "ipython3",
   "version": "3.13.1"
  },
  "widgets": {
   "application/vnd.jupyter.widget-state+json": {
    "state": {},
    "version_major": 2,
    "version_minor": 0
   }
  }
 },
 "nbformat": 4,
 "nbformat_minor": 4
}
