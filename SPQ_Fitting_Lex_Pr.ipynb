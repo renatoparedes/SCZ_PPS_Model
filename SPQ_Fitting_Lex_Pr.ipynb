{
 "cells": [
  {
   "cell_type": "code",
   "execution_count": 1,
   "metadata": {},
   "outputs": [],
   "source": [
    "### Load PPS model\n",
    "%run ./HC_model.ipynb"
   ]
  },
  {
   "cell_type": "code",
   "execution_count": 2,
   "metadata": {},
   "outputs": [],
   "source": [
    "# Tactile area\n",
    "def myLIt(z,Lt): # z is a matrix of MtxNt dimensions\n",
    "    LI = np.zeros(Mt*Nt)\n",
    "    z = np.reshape(z,(1,Mt*Nt))\n",
    "    for i in range(Mt*Nt):\n",
    "            LI[i] = np.sum(np.multiply(Lt[i,:],z[0,:])) \n",
    "    LI = np.reshape(LI,(Mt,Nt))\n",
    "    return LI\n",
    "\n",
    "# Auditory area\n",
    "def myLIa(z,La): # z is a matrix of MaxNa dimensions\n",
    "    LI = np.zeros(Ma*Na)\n",
    "    z = np.reshape(z,(1,Ma*Na))\n",
    "    for i in range(Ma*Na):\n",
    "            LI[i] = np.sum(np.multiply(La[i,:],z[0,:])) \n",
    "    LI = np.reshape(LI,(Ma,Na))\n",
    "    return LI\n",
    "\n",
    "# Experiment\n",
    "def myexperimentrun(a_distances,time,b,pr,Lex,Lin,Sex,Sin):\n",
    "    Lt,La = Lw(Lex,Lin,Sex,Sin,Lex,Lin,Sex*20,Sin*20)\n",
    "    \n",
    "    dt = 0.4\n",
    "    timesteps = int(time/dt)\n",
    "    ndist = len(a_distances)\n",
    "    \n",
    "    RTs = np.zeros(ndist)\n",
    "    ZTs = np.zeros((Mt,Nt,ndist))\n",
    "    ZAs = np.zeros((Ma,Na,ndist))\n",
    "    \n",
    "    ti = PHIt(0) \n",
    "    #PrBa = prun(Ba,pr)\n",
    "    #PrWa = prun(Wa,pr*2.6)\n",
    "    PrWa = prun(Wa,pr)\n",
    "    dtau = dt/tau\n",
    "    \n",
    "    qt = np.zeros((Mt,Nt,timesteps+1,ndist))\n",
    "    ut = np.zeros((Mt,Nt,timesteps+1,ndist))\n",
    "    zt = np.zeros((Mt,Nt,timesteps+1,ndist))\n",
    "    pt = np.zeros((Mt,Nt,timesteps+1,ndist))\n",
    "\n",
    "    qa = np.zeros((Ma,Na,timesteps+1,ndist))\n",
    "    ua = np.zeros((Ma,Na,timesteps+1,ndist))\n",
    "    za = np.zeros((Ma,Na,timesteps+1,ndist))\n",
    "    pa = np.zeros((Ma,Na,timesteps+1,ndist))\n",
    "\n",
    "    qm = np.zeros((timesteps+1,ndist))\n",
    "    um = np.zeros((timesteps+1,ndist))\n",
    "    zm = np.zeros((timesteps+1,ndist))\n",
    "    pm = np.zeros((timesteps+1,ndist))\n",
    "    \n",
    "    rt = np.zeros((timesteps+1,ndist))\n",
    "    \n",
    "    for d in range(ndist):\n",
    "        xa_0 = a_distances[d] # How far the sound is presented.     \n",
    "        ai = PHIa(0,xa_0) # Generates an auditory input\n",
    "\n",
    "        for i in range(timesteps):    \n",
    "            # Tactile activity\n",
    "            ut[:,:,i+1,d] = ti+myLIt(zt[:,:,i,d],Lt)+bt(zm[i,d])\n",
    "            qt[:,:,i+1,d] = qt[:,:,i,d] + dtau*(-qt[:,:,i,d]+ut[:,:,i,d])\n",
    "            pt[:,:,i+1,d] = psit(qt[:,:,i,d],b)\n",
    "            zt[:,:,i+1,d] = pt[:,:,i,d]*np.heaviside(pt[:,:,i,d],0)\n",
    "\n",
    "            # Auditory activity\n",
    "            ua[:,:,i+1,d] = ai+myLIa(za[:,:,i,d],La)+ba(zm[i,d],Ba) \n",
    "            qa[:,:,i+1,d] = qa[:,:,i,d] + dtau*(-qa[:,:,i,d]+ua[:,:,i,d])\n",
    "            pa[:,:,i+1,d] = psia(qa[:,:,i,d],b)\n",
    "            za[:,:,i+1,d] = pa[:,:,i,d]*np.heaviside(pa[:,:,i,d],0)\n",
    "\n",
    "            # Multisensory activity\n",
    "            um[i+1,d] = np.sum(np.multiply(Wt,zt[:,:,i,d])) + np.sum(np.multiply(PrWa,za[:,:,i,d]))\n",
    "            qm[i+1,d] = qm[i,d] + dtau*(-qm[i,d]+um[i,d])\n",
    "            pm[i+1,d] = psim(qm[i,d])\n",
    "            zm[i+1,d] = pm[i,d]*np.heaviside(pm[i,d],0)\n",
    "            \n",
    "            # Response\n",
    "            rt[i+1,d] = np.any(zt[:,:,i,d]>(0.9*ft_max))\n",
    "            \n",
    "        RTs[d] = np.argmax(rt[:,d])*dt\n",
    "        ZMs = zm        \n",
    "        ZTs[:,:,d] = zt[:,:,timesteps,d]\n",
    "        ZAs[:,:,d] = za[:,:,timesteps,d]   \n",
    "    return RTs,ZMs,ZTs,ZAs"
   ]
  },
  {
   "cell_type": "code",
   "execution_count": 3,
   "metadata": {},
   "outputs": [
    {
     "data": {
      "text/plain": [
       "<matplotlib.collections.PathCollection at 0x282204a2d08>"
      ]
     },
     "execution_count": 3,
     "metadata": {},
     "output_type": "execute_result"
    },
    {
     "data": {
      "image/png": "[encoded data removed]",
      "text/plain": [
       "<Figure size 432x288 with 1 Axes>"
      ]
     },
     "metadata": {
      "needs_background": "light"
     },
     "output_type": "display_data"
    }
   ],
   "source": [
    "### Audio-tactile experiment simulation setup \n",
    "\n",
    "## Calculate distance in cms. Speaker is positioned at 100cm from the hand. \n",
    "s_distances = np.asarray([2700,2200,1500,800,300])/1000\n",
    "ts = np.linspace(s_distances[0],s_distances[-1],7)\n",
    "v = 30 #cm/s \n",
    "a_distances = (120 - ts*v) # distance points in cm (network coordinates)\n",
    "\n",
    "## Simulation setup\n",
    "simtime = 100 #ms \n",
    "\n",
    "## Synapses setup\n",
    "Lt,La = Lw(0.15,0.05,1,4,0.15,0.05,20,80)\n",
    "Wt,Wa,Bt,Ba = Fw(6.5,6.5,2.5,2.5) \n",
    "bi = 0\n",
    "pr = 0\n",
    "\n",
    "# Experimental Data\n",
    "ymin = 267.49264705882354\n",
    "ymax = 344.6744295011452\n",
    "cp = 120-1.542*v\n",
    "slope = 1/0.11724137931\n",
    "SPQ_RTs = RTsig(a_distances,cp,slope)\n",
    "plt.scatter(a_distances,SPQ_RTs)"
   ]
  },
  {
   "cell_type": "code",
   "execution_count": 7,
   "metadata": {},
   "outputs": [
    {
     "name": "stdout",
     "output_type": "stream",
     "text": [
      "differential_evolution step 1: f(x)= 22.4295\n",
      "differential_evolution step 2: f(x)= 22.4295\n",
      "differential_evolution step 3: f(x)= 18.468\n",
      "differential_evolution step 4: f(x)= 18.468\n",
      "differential_evolution step 5: f(x)= 18.468\n",
      "differential_evolution step 6: f(x)= 18.468\n",
      "differential_evolution step 7: f(x)= 18.468\n",
      "differential_evolution step 8: f(x)= 18.468\n",
      "differential_evolution step 9: f(x)= 18.468\n",
      "differential_evolution step 10: f(x)= 18.468\n",
      "differential_evolution step 11: f(x)= 18.468\n",
      "differential_evolution step 12: f(x)= 13.3378\n",
      "differential_evolution step 13: f(x)= 11.5983\n",
      "differential_evolution step 14: f(x)= 11.5983\n",
      "differential_evolution step 15: f(x)= 11.5983\n",
      "differential_evolution step 16: f(x)= 11.5983\n",
      "differential_evolution step 17: f(x)= 11.5983\n",
      "differential_evolution step 18: f(x)= 11.5983\n",
      "differential_evolution step 19: f(x)= 11.5983\n",
      "differential_evolution step 20: f(x)= 11.5983\n",
      "differential_evolution step 21: f(x)= 11.5983\n",
      "differential_evolution step 22: f(x)= 11.5983\n",
      "differential_evolution step 23: f(x)= 11.5983\n",
      "differential_evolution step 24: f(x)= 11.5983\n",
      "differential_evolution step 25: f(x)= 11.5983\n",
      "differential_evolution step 26: f(x)= 11.5983\n",
      "differential_evolution step 27: f(x)= 11.5983\n",
      "differential_evolution step 28: f(x)= 11.5983\n",
      "differential_evolution step 29: f(x)= 11.5983\n",
      "differential_evolution step 30: f(x)= 11.5983\n",
      "differential_evolution step 31: f(x)= 11.5983\n"
     ]
    }
   ],
   "source": [
    "def spqmodelrun(theta):\n",
    "    spqRTs,ZMs,ZTs,ZAs = myexperimentrun(a_distances,simtime,bi,theta[0],theta[1],0.05,1,4)\n",
    "    xf = spqRTs\n",
    "    yf = SPQ_RTs\n",
    "    \n",
    "    m = (xf.size * np.sum(xf*yf) - np.sum(xf) * np.sum(yf)) / (xf.size*np.sum(xf*xf) - np.sum(xf) ** 2)\n",
    "    bias = (np.sum(yf) - m*np.sum(xf)) / xf.size\n",
    "    \n",
    "    if bias<0: bias=0\n",
    "    if m<0: m=0\n",
    "    \n",
    "    cost = np.sum(np.square(np.divide(yf-(m*xf+bias),yf)))\n",
    "    \n",
    "    return cost*100000\n",
    "\n",
    "bounds=[(0,6.5),(0,3)]\n",
    "res = differential_evolution(spqmodelrun,bounds,disp=True)"
   ]
  },
  {
   "cell_type": "code",
   "execution_count": 8,
   "metadata": {},
   "outputs": [
    {
     "name": "stdout",
     "output_type": "stream",
     "text": [
      "     fun: 11.59833099595995\n",
      " message: 'Optimization terminated successfully.'\n",
      "    nfev: 963\n",
      "     nit: 31\n",
      " success: True\n",
      "       x: array([0.57683018, 1.58586328])\n"
     ]
    }
   ],
   "source": [
    "print(res)"
   ]
  },
  {
   "cell_type": "code",
   "execution_count": 9,
   "metadata": {},
   "outputs": [],
   "source": [
    "spqRTs,ZMs,ZTs,ZAs = myexperimentrun(a_distances,simtime,0,0.57683018, 1.58586328,0.05,1,4)"
   ]
  },
  {
   "cell_type": "code",
   "execution_count": 10,
   "metadata": {},
   "outputs": [
    {
     "name": "stdout",
     "output_type": "stream",
     "text": [
      "5.247320399096945 0.18262360243852527\n"
     ]
    },
    {
     "data": {
      "image/png": "[encoded data removed]",
      "text/plain": [
       "<Figure size 432x288 with 1 Axes>"
      ]
     },
     "metadata": {
      "needs_background": "light"
     },
     "output_type": "display_data"
    }
   ],
   "source": [
    "xf = spqRTs\n",
    "yf = SPQ_RTs    \n",
    "m = (xf.size * np.sum(xf*yf) - np.sum(xf) * np.sum(yf)) / (xf.size*np.sum(xf*xf) - np.sum(xf) ** 2)\n",
    "bias = (np.sum(yf) - m*np.sum(xf)) / xf.size\n",
    "\n",
    "ymin,ymax = np.min(m*xf+bias),np.max(m*xf+bias) \n",
    "dc,h = sigfit(a_distances,m*xf+bias)\n",
    "a_distances_exp = np.linspace(a_distances[0],a_distances[-1],30)\n",
    "yf_exp = RTsig(a_distances_exp,dc,h)\n",
    "\n",
    "plt.figure(1)\n",
    "plt.plot(a_distances_exp,yf_exp,label = 'SPQ Model',color='g')\n",
    "plt.scatter(a_distances,yf,label = 'SPQ Data',color='g')\n",
    "plt.legend()\n",
    "\n",
    "print(m,bias)"
   ]
  },
  {
   "cell_type": "code",
   "execution_count": 15,
   "metadata": {},
   "outputs": [],
   "source": [
    "spqres = np.asarray([yf_exp,yf])\n",
    "np.save('spq_lex_pr.npy', spqres)"
   ]
  },
  {
   "cell_type": "code",
   "execution_count": 12,
   "metadata": {},
   "outputs": [
    {
     "name": "stdout",
     "output_type": "stream",
     "text": [
      "1.2834244390816407\n"
     ]
    }
   ],
   "source": [
    "from sklearn import metrics\n",
    "print(metrics.mean_squared_error(yf,m*xf+bias,squared=False))"
   ]
  },
  {
   "cell_type": "code",
   "execution_count": 14,
   "metadata": {},
   "outputs": [
    {
     "name": "stdout",
     "output_type": "stream",
     "text": [
      "1.960463213615953\n"
     ]
    }
   ],
   "source": [
    "def adjrmse(model,data,k):\n",
    "    sse = np.sum(np.square(data-model))\n",
    "    n = len(model)\n",
    "    return np.sqrt(sse/(n-k))\n",
    "\n",
    "spq_error = adjrmse(m*xf+bias,spqres[1],4)\n",
    "print(spq_error)"
   ]
  },
  {
   "cell_type": "code",
   "execution_count": 20,
   "metadata": {},
   "outputs": [
    {
     "data": {
      "text/plain": [
       "4.570394564633551"
      ]
     },
     "execution_count": 20,
     "metadata": {},
     "output_type": "execute_result"
    }
   ],
   "source": [
    "myWa = prun(Wa,0.57683018)\n",
    "100*(1-np.sum(myWa)/np.sum(Wa))"
   ]
  }
 ],
 "metadata": {
  "kernelspec": {
   "display_name": "Python 3",
   "language": "python",
   "name": "python3"
  },
  "language_info": {
   "codemirror_mode": {
    "name": "ipython",
    "version": 3
   },
   "file_extension": ".py",
   "mimetype": "text/x-python",
   "name": "python",
   "nbconvert_exporter": "python",
   "pygments_lexer": "ipython3",
   "version": "3.7.4"
  }
 },
 "nbformat": 4,
 "nbformat_minor": 4
}
