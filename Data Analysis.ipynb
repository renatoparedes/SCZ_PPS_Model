{
 "cells": [
  {
   "cell_type": "code",
   "execution_count": 166,
   "metadata": {},
   "outputs": [],
   "source": [
    "import pylab\n",
    "import numpy as np\n",
    "import matplotlib.pyplot as plt\n",
    "import matplotlib as mpl\n",
    "import pandas as pd\n",
    "from scipy.spatial import distance\n",
    "from scipy.optimize import curve_fit\n",
    "from scipy.optimize import minimize\n",
    "from scipy.optimize import differential_evolution\n",
    "from mpl_toolkits.axes_grid1 import make_axes_locatable\n",
    "import string\n",
    "from sklearn import preprocessing\n",
    "import scipy.io\n",
    "from scipy import stats\n",
    "import math\n",
    "import inspect,dis\n",
    "from scipy.special import erf\n",
    "from sklearn.metrics import mean_squared_error\n",
    "from sklearn.metrics import r2_score\n",
    "np.set_printoptions(suppress=True)"
   ]
  },
  {
   "cell_type": "code",
   "execution_count": 167,
   "metadata": {},
   "outputs": [],
   "source": [
    "### Load experimental data (Di Cosmo et al., 2017)\n",
    "\n",
    "HCdata = pd.read_excel (r'PPS_data_SCZ_SPQ.xlsx',sheet_name='HC') \n",
    "SCZdata = pd.read_excel (r'PPS_data_SCZ_SPQ.xlsx',sheet_name='SCZ') \n",
    "SPQdata = pd.read_excel (r'PPS_data_SCZ_SPQ.xlsx',sheet_name='high spq') \n",
    "LSPQdata = pd.read_excel (r'PPS_data_SCZ_SPQ.xlsx',sheet_name='low spq') \n",
    "\n",
    "sets = [HCdata,SCZdata,SPQdata,LSPQdata]\n",
    "RTdata = []\n",
    "\n",
    "for i in sets:\n",
    "    subjects = i['Subject'].unique()\n",
    "    delays = i[(i['Sound']=='Loom')&(i['Cond'] != 'Loom_NO')]['Cond'].unique()\n",
    "    delays = np.delete(delays,np.where(delays=='Loom_-700')[0])\n",
    "    idx = [3,4,0,1,2]\n",
    "    delays = delays[idx]\n",
    "    RTs = []\n",
    "    \n",
    "    for s in subjects:\n",
    "        meanRTs = []\n",
    "        for t in delays:\n",
    "            RT = i[(i['Subject'] == s)&(i['Cond'] == t)]['Rtpul']           \n",
    "            meanRTs.append(np.mean(RT))\n",
    "        RTs.append(meanRTs)\n",
    "    RTdata.append(RTs)\n",
    "    \n",
    "HC_RTs = np.asarray(RTdata[0])[:,::-1]\n",
    "SCZ_RTs = np.asarray(RTdata[1])[:,::-1]\n",
    "SPQ_RTs = np.asarray(RTdata[2])[:,::-1]\n",
    "LSPQ_RTs = np.asarray(RTdata[3])[:,::-1]\n",
    "\n",
    "#idx = [4,10,13]\n",
    "#SCZ_RTs = np.delete(SCZ_RTs, idx,axis=0)"
   ]
  },
  {
   "cell_type": "code",
   "execution_count": 168,
   "metadata": {},
   "outputs": [
    {
     "data": {
      "text/plain": [
       "[<matplotlib.lines.Line2D at 0x122d0001148>]"
      ]
     },
     "execution_count": 168,
     "metadata": {},
     "output_type": "execute_result"
    },
    {
     "data": {
      "image/png": "[encoded data removed]",
      "text/plain": [
       "<Figure size 432x288 with 1 Axes>"
      ]
     },
     "metadata": {
      "needs_background": "light"
     },
     "output_type": "display_data"
    }
   ],
   "source": [
    "plt.plot(SCZ_RTs[10])"
   ]
  },
  {
   "cell_type": "code",
   "execution_count": 169,
   "metadata": {},
   "outputs": [],
   "source": [
    "def RTsig(data,cp,h):\n",
    "    global ymin\n",
    "    global ymax\n",
    "    return (ymin+ymax*np.exp((data-cp)/h)) / (1+np.exp((data-cp)/h))\n",
    "\n",
    "## Sigmoid function fitting\n",
    "def sigfit(x,y):\n",
    "    global ymin\n",
    "    global ymax\n",
    "    \n",
    "    k_0 = (ymax - ymin)/(x[-1]-x[0])\n",
    "    initial_slope = (ymax - ymin)/(4*k_0)\n",
    "    middle_x = np.max(x)/2\n",
    "    init_guess = [middle_x, initial_slope]\n",
    "    boundaries = ([0,float('-inf')],[float('inf'),float('inf')])\n",
    "    \n",
    "    popt, pcov = curve_fit(RTsig,x,y,p0=init_guess,method='trf',ftol=1e-8,xtol=1e-8,maxfev=10000,bounds=boundaries)\n",
    "    sigpar = np.asarray(popt)\n",
    "    dc = sigpar[0]\n",
    "    h = sigpar[1]\n",
    "    \n",
    "    return dc,h"
   ]
  },
  {
   "cell_type": "code",
   "execution_count": 170,
   "metadata": {},
   "outputs": [],
   "source": [
    "# Distance points in cm (network coordinates) \n",
    "a_distances = np.asarray([2700,2200,1500,800,300])\n",
    "\n",
    "RTdata = []\n",
    "\n",
    "n_sample = np.size(HC_RTs,0)\n",
    "parc = np.zeros((n_sample,3))\n",
    "pard = np.zeros((n_sample,3))\n",
    "    \n",
    "for s in np.arange(n_sample):\n",
    "    rt_data = HC_RTs[s,:]\n",
    "    ymin, ymax = np.min(rt_data), np.max(rt_data)\n",
    "    pars = sigfit(a_distances,rt_data) \n",
    "    fit = RTsig(a_distances,*pars)\n",
    "    r2 = r2_score(rt_data,fit)\n",
    "    parc[s,:] = [*pars,r2]\n",
    "\n",
    "for s in np.arange(n_sample-3):\n",
    "    rt_data = SCZ_RTs[s,:]\n",
    "    ymin, ymax = np.min(rt_data), np.max(rt_data)\n",
    "    pars = sigfit(a_distances,rt_data) \n",
    "    fit = RTsig(a_distances,*pars)\n",
    "    r2 = r2_score(rt_data,fit)\n",
    "    pard[s,:] = [*pars,r2]\n",
    "\n",
    "RTdata.append(parc)\n",
    "RTdata.append(pard)\n",
    "\n",
    "n_sample = np.size(SPQ_RTs,0)\n",
    "parc = np.zeros((n_sample,3))\n",
    "pard = np.zeros((n_sample+1,3))\n",
    "    \n",
    "for s in np.arange(n_sample):\n",
    "    rt_data = SPQ_RTs[s,:]\n",
    "    ymin, ymax = np.min(rt_data), np.max(rt_data)\n",
    "    pars = sigfit(a_distances,rt_data) \n",
    "    fit = RTsig(a_distances,*pars)\n",
    "    r2 = r2_score(rt_data,fit)\n",
    "    parc[s,:] = [*pars,r2]\n",
    "    \n",
    "for s in np.arange(n_sample+1):\n",
    "    rt_data = LSPQ_RTs[s,:]\n",
    "    ymin, ymax = np.min(rt_data), np.max(rt_data)\n",
    "    pars = sigfit(a_distances,rt_data) \n",
    "    fit = RTsig(a_distances,*pars)\n",
    "    r2 = r2_score(rt_data,fit)\n",
    "    pard[s,:] = [*pars,r2]\n",
    "    \n",
    "RTdata.append(parc)\n",
    "RTdata.append(pard)\n",
    "\n",
    "HC_pars = RTdata[0]#[~np.isnan(RTdata[0]).any(axis=1)]\n",
    "SCZ_pars = RTdata[1]#[~np.isnan(RTdata[1]).any(axis=1)]\n",
    "SPQ_pars = RTdata[2]#[~np.isnan(RTdata[2]).any(axis=1)]\n",
    "LSPQ_pars = RTdata[3]#[~np.isnan(RTdata[3]).any(axis=1)]"
   ]
  },
  {
   "cell_type": "code",
   "execution_count": 171,
   "metadata": {},
   "outputs": [
    {
     "name": "stdout",
     "output_type": "stream",
     "text": [
      "[[ 731.59308097  -49.21397846    0.94476297]\n",
      " [1769.2226203  -262.81044854    0.99883307]\n",
      " [1169.83188187 -368.76994551    0.95283654]\n",
      " [1884.10382338 -496.41801128    0.8337627 ]\n",
      " [ 758.79465327  -35.118212      0.98951787]\n",
      " [1127.59564412 -339.78965226    0.95284457]\n",
      " [1305.0887779   -98.40302545    0.80339345]\n",
      " [ 787.46592969  -80.57102707    0.90579184]\n",
      " [2009.17441292 -485.59957181    0.84111619]\n",
      " [1363.17422842 -594.15175061    0.79165309]\n",
      " [1444.78158532 -470.23581171    0.80705698]\n",
      " [1285.14967523 -107.3591462     0.70127705]\n",
      " [1483.77489173 -703.75542278    0.7661565 ]\n",
      " [1360.73684204 -477.03365604    0.66188048]\n",
      " [1463.4926458  -171.67147401    0.90558649]\n",
      " [1515.65716963  -85.935638      0.99133368]\n",
      " [1103.67318199 -493.80179672    0.89721968]\n",
      " [1357.9339604  -195.42536464    0.9827634 ]]\n"
     ]
    }
   ],
   "source": [
    "#print(SCZ_pars)#[4,10,13]\n",
    "SCZ_pars = SCZ_pars[SCZ_pars[:,2] > 0.25]\n",
    "print(HC_pars)"
   ]
  },
  {
   "cell_type": "code",
   "execution_count": 172,
   "metadata": {},
   "outputs": [
    {
     "name": "stdout",
     "output_type": "stream",
     "text": [
      "1359.335401220596\n",
      "-301.3000503997779\n",
      "1648.0779807931594\n",
      "-195.09829689238066\n"
     ]
    }
   ],
   "source": [
    "print(np.median(HC_pars[:,0]))\n",
    "print(np.median(HC_pars[:,1]))\n",
    "\n",
    "print(np.median(SCZ_pars[:,0]))\n",
    "print(np.median(SCZ_pars[:,1]))"
   ]
  },
  {
   "cell_type": "code",
   "execution_count": 176,
   "metadata": {},
   "outputs": [
    {
     "name": "stdout",
     "output_type": "stream",
     "text": [
      "267.49264705882354\n",
      "344.6744295011452\n"
     ]
    }
   ],
   "source": [
    "dset = SPQ_RTs\n",
    "\n",
    "n_size = dset.shape[0]\n",
    "\n",
    "mins = []\n",
    "maxs = []\n",
    "\n",
    "for i in range(n_size):\n",
    "    mini,maxi = np.min(dset[i]), np.max(dset[i])\n",
    "    mins.append(mini)\n",
    "    maxs.append(maxi)\n",
    "    \n",
    "print(np.mean(mins))\n",
    "print(np.mean(maxs))"
   ]
  },
  {
   "cell_type": "code",
   "execution_count": null,
   "metadata": {},
   "outputs": [],
   "source": []
  }
 ],
 "metadata": {
  "kernelspec": {
   "display_name": "Python 3",
   "language": "python",
   "name": "python3"
  },
  "language_info": {
   "codemirror_mode": {
    "name": "ipython",
    "version": 3
   },
   "file_extension": ".py",
   "mimetype": "text/x-python",
   "name": "python",
   "nbconvert_exporter": "python",
   "pygments_lexer": "ipython3",
   "version": "3.7.4"
  }
 },
 "nbformat": 4,
 "nbformat_minor": 4
}
